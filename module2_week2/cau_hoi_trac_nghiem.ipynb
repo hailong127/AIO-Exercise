{
  "nbformat": 4,
  "nbformat_minor": 0,
  "metadata": {
    "colab": {
      "provenance": []
    },
    "kernelspec": {
      "name": "python3",
      "display_name": "Python 3"
    },
    "language_info": {
      "name": "python"
    }
  },
  "cells": [
    {
      "cell_type": "code",
      "execution_count": 1,
      "metadata": {
        "colab": {
          "base_uri": "https://localhost:8080/"
        },
        "id": "iYdKcY3ronNN",
        "outputId": "93ac2adf-df65-4912-89e3-2b9dcbee1998"
      },
      "outputs": [
        {
          "output_type": "stream",
          "name": "stdout",
          "text": [
            "23.28\n"
          ]
        }
      ],
      "source": [
        "# Câu 1:\n",
        "import numpy as np\n",
        "def compute_vector_length(vector):\n",
        "    return np.linalg.norm(vector)\n",
        "\n",
        "vector = np.array([-2, 4, 9, 21])\n",
        "result = compute_vector_length([vector])\n",
        "print(round(result, 2))"
      ]
    },
    {
      "cell_type": "code",
      "source": [
        "# Câu 2:\n",
        "def compute_dot_product(v1, v2):\n",
        "  return np.dot(v1, v2)\n",
        "\n",
        "v1 = np.array([0, 1, -1, 2])\n",
        "v2 = np.array([2, 5, 1, 0])\n",
        "result = compute_dot_product(v1, v2)\n",
        "print(round(result, 2))"
      ],
      "metadata": {
        "id": "MCwFYC4Aph6e",
        "colab": {
          "base_uri": "https://localhost:8080/"
        },
        "outputId": "fd46d82a-581c-424a-9b0b-9917e0e0f20f"
      },
      "execution_count": 2,
      "outputs": [
        {
          "output_type": "stream",
          "name": "stdout",
          "text": [
            "4\n"
          ]
        }
      ]
    },
    {
      "cell_type": "code",
      "source": [
        "# Câu 3:\n",
        "x = np.array([[1, 2],\n",
        "              [3, 4]])\n",
        "k = np.array([1, 2])\n",
        "print('result  \\n', x.dot(k))"
      ],
      "metadata": {
        "colab": {
          "base_uri": "https://localhost:8080/"
        },
        "id": "jmMAcdx_RFJ4",
        "outputId": "de751e51-a1bd-4560-f277-22387eb9c839"
      },
      "execution_count": 3,
      "outputs": [
        {
          "output_type": "stream",
          "name": "stdout",
          "text": [
            "result  \n",
            " [ 5 11]\n"
          ]
        }
      ]
    },
    {
      "cell_type": "code",
      "source": [
        "# Câu 4:\n",
        "x = np.array([[-1, 2],\n",
        "              [3, -4]])\n",
        "k = np.array([1, 2])\n",
        "print('result \\n', x@k)"
      ],
      "metadata": {
        "colab": {
          "base_uri": "https://localhost:8080/"
        },
        "id": "wIhNZ-64SG5p",
        "outputId": "4b3f6644-260c-4b0a-e68d-b43a4674a5f0"
      },
      "execution_count": 4,
      "outputs": [
        {
          "output_type": "stream",
          "name": "stdout",
          "text": [
            "result \n",
            " [ 3 -5]\n"
          ]
        }
      ]
    },
    {
      "cell_type": "code",
      "source": [
        "# Câu 5:\n",
        "def matrix_multi_vector(m, v):\n",
        "    return np.dot(m, v)\n",
        "m = np.array([[-1, 1, 1], [0, -4, 9]])\n",
        "v = np.array([0, 2, 1])\n",
        "result = matrix_multi_vector(m, v)\n",
        "print(result)"
      ],
      "metadata": {
        "colab": {
          "base_uri": "https://localhost:8080/"
        },
        "id": "RjAS2E_pSqnI",
        "outputId": "8f27be74-f470-465d-e09b-f67fdb7a54e4"
      },
      "execution_count": 5,
      "outputs": [
        {
          "output_type": "stream",
          "name": "stdout",
          "text": [
            "[3 1]\n"
          ]
        }
      ]
    },
    {
      "cell_type": "code",
      "source": [
        "# Câu 6:\n",
        "def matrix_multi_matrix(m1, m2):\n",
        "    return np.dot(m1, m2)\n",
        "m1 = np.array([[0,1,2],[2,-3,1]])\n",
        "m2 = np.array([[1, -3], [6, 1], [0, -1]])\n",
        "result = matrix_multi_matrix(m1, m2)\n",
        "print(result)"
      ],
      "metadata": {
        "colab": {
          "base_uri": "https://localhost:8080/"
        },
        "id": "3f8y4LlMTc2-",
        "outputId": "1633a751-9079-49f6-ff0d-2cb8362a3885"
      },
      "execution_count": 6,
      "outputs": [
        {
          "output_type": "stream",
          "name": "stdout",
          "text": [
            "[[  6  -1]\n",
            " [-16 -10]]\n"
          ]
        }
      ]
    },
    {
      "cell_type": "code",
      "source": [
        "# Câu 7:\n",
        "m1 = np.eye(3)\n",
        "m2 = np.array([[1, 1, 1], [2, 2, 2], [3, 3, 3]])\n",
        "result = m1@m2\n",
        "print(result)"
      ],
      "metadata": {
        "colab": {
          "base_uri": "https://localhost:8080/"
        },
        "id": "hZWaYKGiT6y9",
        "outputId": "4f3778ff-a454-4a38-ef69-6650a03adaa8"
      },
      "execution_count": 7,
      "outputs": [
        {
          "output_type": "stream",
          "name": "stdout",
          "text": [
            "[[1. 1. 1.]\n",
            " [2. 2. 2.]\n",
            " [3. 3. 3.]]\n"
          ]
        }
      ]
    },
    {
      "cell_type": "code",
      "source": [
        "# Câu 8:\n",
        "m1 = np.eye(2)\n",
        "m1 = np.reshape(m1, (-1, 4)) [0]\n",
        "m2 = np.array([[1, 1, 1, 1], [2, 2, 2, 2], [3, 3, 3, 3], [4, 4, 4, 4]])\n",
        "result = m1@m2\n",
        "print(result)"
      ],
      "metadata": {
        "colab": {
          "base_uri": "https://localhost:8080/"
        },
        "id": "g5ioNsC1aggF",
        "outputId": "4a9a9214-73d3-4413-d69a-bcbdfa158122"
      },
      "execution_count": 8,
      "outputs": [
        {
          "output_type": "stream",
          "name": "stdout",
          "text": [
            "[5. 5. 5. 5.]\n"
          ]
        }
      ]
    },
    {
      "cell_type": "code",
      "source": [
        "# Câu 9:\n",
        "m1 = np.array([[1, 2], [3, 4]])\n",
        "m1 = np.reshape(m1, (-1,4), \"F\") [0]\n",
        "m2 = np.array([[1, 1, 1, 1], [2, 2, 2, 2], [3, 3, 3, 3], [4, 4, 4, 4]])\n",
        "result = m1@m2\n",
        "print(result)\n"
      ],
      "metadata": {
        "colab": {
          "base_uri": "https://localhost:8080/"
        },
        "id": "4aqVjx94brrv",
        "outputId": "54df685c-242a-42da-f530-04ed8bc34946"
      },
      "execution_count": 9,
      "outputs": [
        {
          "output_type": "stream",
          "name": "stdout",
          "text": [
            "[29 29 29 29]\n"
          ]
        }
      ]
    },
    {
      "cell_type": "code",
      "source": [
        "# Câu 10:\n",
        "def inverse_matrix(m):\n",
        "    return np.linalg.inv(m)\n",
        "m1 = np.array([[-2, 6], [8, -4]])\n",
        "result = inverse_matrix(m1)\n",
        "print(result)"
      ],
      "metadata": {
        "colab": {
          "base_uri": "https://localhost:8080/"
        },
        "id": "fdMhyI6McLjJ",
        "outputId": "9380286c-d1ab-488e-e101-cc9786e7b671"
      },
      "execution_count": 10,
      "outputs": [
        {
          "output_type": "stream",
          "name": "stdout",
          "text": [
            "[[0.1  0.15]\n",
            " [0.2  0.05]]\n"
          ]
        }
      ]
    },
    {
      "cell_type": "code",
      "source": [
        "# Câu 11:\n",
        "def compute_eigenvalues_eigenvectors(matrix):\n",
        "  eigenvalues, eigenvectors = np.linalg.eig(matrix)\n",
        "  return eigenvalues, eigenvectors\n",
        "matrix = np.array([[0.9, 0.2], [0.1, 0.8]])\n",
        "eigenvalues, eigenvectors = compute_eigenvalues_eigenvectors(matrix)\n",
        "print(eigenvectors)"
      ],
      "metadata": {
        "colab": {
          "base_uri": "https://localhost:8080/"
        },
        "id": "AeYrgDLlcmtj",
        "outputId": "c3a4f3ed-9ba3-46ef-e193-f2efc1acd2e8"
      },
      "execution_count": 11,
      "outputs": [
        {
          "output_type": "stream",
          "name": "stdout",
          "text": [
            "[[ 0.89442719 -0.70710678]\n",
            " [ 0.4472136   0.70710678]]\n"
          ]
        }
      ]
    },
    {
      "cell_type": "code",
      "source": [
        "# Câu 12:\n",
        "def compute_cosine(v1, v2):\n",
        "  cos_sim = compute_dot_product(v1,v2) / (compute_vector_length(v1)*compute_vector_length(v2))\n",
        "\n",
        "  return cos_sim\n",
        "\n",
        "x = np.array([1, 2, 3, 4])\n",
        "y = np.array([1, 0, 3, 0])\n",
        "result = compute_cosine(x, y)\n",
        "print(round(result, 3))"
      ],
      "metadata": {
        "colab": {
          "base_uri": "https://localhost:8080/"
        },
        "id": "xMPWIQvwdDiH",
        "outputId": "6d3272b9-1fd0-4215-a2fb-a2b78d937d35"
      },
      "execution_count": 12,
      "outputs": [
        {
          "output_type": "stream",
          "name": "stdout",
          "text": [
            "0.577\n"
          ]
        }
      ]
    },
    {
      "cell_type": "code",
      "source": [],
      "metadata": {
        "id": "chbUieCRejlz"
      },
      "execution_count": 12,
      "outputs": []
    }
  ]
}