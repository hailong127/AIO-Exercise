{
  "nbformat": 4,
  "nbformat_minor": 0,
  "metadata": {
    "colab": {
      "provenance": []
    },
    "kernelspec": {
      "name": "python3",
      "display_name": "Python 3"
    },
    "language_info": {
      "name": "python"
    }
  },
  "cells": [
    {
      "cell_type": "markdown",
      "source": [
        "## **Titanic Survival Prediction**"
      ],
      "metadata": {
        "id": "bUCPxcA9UGx_"
      }
    },
    {
      "cell_type": "markdown",
      "source": [
        "## 1. Import libraries"
      ],
      "metadata": {
        "id": "tBCDtJBrUf1B"
      }
    },
    {
      "cell_type": "code",
      "execution_count": 1,
      "metadata": {
        "id": "uJm3yG3VTdRx"
      },
      "outputs": [],
      "source": [
        "import pandas as pd\n",
        "import numpy as np\n",
        "import matplotlib.pyplot as plt\n",
        "\n",
        "from sklearn.model_selection import train_test_split\n",
        "from sklearn.preprocessing import StandardScaler"
      ]
    },
    {
      "cell_type": "markdown",
      "source": [
        "## 2. Đọc dữ liệu"
      ],
      "metadata": {
        "id": "kMtRCnz2VFmi"
      }
    },
    {
      "cell_type": "code",
      "source": [
        "dataset_path = 'titanic_modified_dataset.csv'\n",
        "df = pd.read_csv(dataset_path, index_col = 'PassengerId')"
      ],
      "metadata": {
        "id": "ESuPvA7vUrlX"
      },
      "execution_count": 2,
      "outputs": []
    },
    {
      "cell_type": "code",
      "source": [
        "df.head()"
      ],
      "metadata": {
        "colab": {
          "base_uri": "https://localhost:8080/",
          "height": 237
        },
        "id": "CD2OrNJ4Urvd",
        "outputId": "5d765bff-aa43-4196-da8d-6dee0634f4dc"
      },
      "execution_count": 3,
      "outputs": [
        {
          "output_type": "execute_result",
          "data": {
            "text/plain": [
              "             Pclass  Sex   Age  SibSp  Parch     Fare  Embarked  Title  \\\n",
              "PassengerId                                                              \n",
              "1                 3    0  22.0      1      0   7.2500         0      0   \n",
              "2                 1    1  38.0      1      0  71.2833         1      1   \n",
              "3                 3    1  26.0      0      0   7.9250         0      2   \n",
              "4                 1    1  35.0      1      0  53.1000         0      1   \n",
              "5                 3    0  35.0      0      0   8.0500         0      0   \n",
              "\n",
              "             Survived  \n",
              "PassengerId            \n",
              "1                   0  \n",
              "2                   1  \n",
              "3                   1  \n",
              "4                   1  \n",
              "5                   0  "
            ],
            "text/html": [
              "\n",
              "  <div id=\"df-e33afc8b-2156-4547-b944-59f6cdb94e52\" class=\"colab-df-container\">\n",
              "    <div>\n",
              "<style scoped>\n",
              "    .dataframe tbody tr th:only-of-type {\n",
              "        vertical-align: middle;\n",
              "    }\n",
              "\n",
              "    .dataframe tbody tr th {\n",
              "        vertical-align: top;\n",
              "    }\n",
              "\n",
              "    .dataframe thead th {\n",
              "        text-align: right;\n",
              "    }\n",
              "</style>\n",
              "<table border=\"1\" class=\"dataframe\">\n",
              "  <thead>\n",
              "    <tr style=\"text-align: right;\">\n",
              "      <th></th>\n",
              "      <th>Pclass</th>\n",
              "      <th>Sex</th>\n",
              "      <th>Age</th>\n",
              "      <th>SibSp</th>\n",
              "      <th>Parch</th>\n",
              "      <th>Fare</th>\n",
              "      <th>Embarked</th>\n",
              "      <th>Title</th>\n",
              "      <th>Survived</th>\n",
              "    </tr>\n",
              "    <tr>\n",
              "      <th>PassengerId</th>\n",
              "      <th></th>\n",
              "      <th></th>\n",
              "      <th></th>\n",
              "      <th></th>\n",
              "      <th></th>\n",
              "      <th></th>\n",
              "      <th></th>\n",
              "      <th></th>\n",
              "      <th></th>\n",
              "    </tr>\n",
              "  </thead>\n",
              "  <tbody>\n",
              "    <tr>\n",
              "      <th>1</th>\n",
              "      <td>3</td>\n",
              "      <td>0</td>\n",
              "      <td>22.0</td>\n",
              "      <td>1</td>\n",
              "      <td>0</td>\n",
              "      <td>7.2500</td>\n",
              "      <td>0</td>\n",
              "      <td>0</td>\n",
              "      <td>0</td>\n",
              "    </tr>\n",
              "    <tr>\n",
              "      <th>2</th>\n",
              "      <td>1</td>\n",
              "      <td>1</td>\n",
              "      <td>38.0</td>\n",
              "      <td>1</td>\n",
              "      <td>0</td>\n",
              "      <td>71.2833</td>\n",
              "      <td>1</td>\n",
              "      <td>1</td>\n",
              "      <td>1</td>\n",
              "    </tr>\n",
              "    <tr>\n",
              "      <th>3</th>\n",
              "      <td>3</td>\n",
              "      <td>1</td>\n",
              "      <td>26.0</td>\n",
              "      <td>0</td>\n",
              "      <td>0</td>\n",
              "      <td>7.9250</td>\n",
              "      <td>0</td>\n",
              "      <td>2</td>\n",
              "      <td>1</td>\n",
              "    </tr>\n",
              "    <tr>\n",
              "      <th>4</th>\n",
              "      <td>1</td>\n",
              "      <td>1</td>\n",
              "      <td>35.0</td>\n",
              "      <td>1</td>\n",
              "      <td>0</td>\n",
              "      <td>53.1000</td>\n",
              "      <td>0</td>\n",
              "      <td>1</td>\n",
              "      <td>1</td>\n",
              "    </tr>\n",
              "    <tr>\n",
              "      <th>5</th>\n",
              "      <td>3</td>\n",
              "      <td>0</td>\n",
              "      <td>35.0</td>\n",
              "      <td>0</td>\n",
              "      <td>0</td>\n",
              "      <td>8.0500</td>\n",
              "      <td>0</td>\n",
              "      <td>0</td>\n",
              "      <td>0</td>\n",
              "    </tr>\n",
              "  </tbody>\n",
              "</table>\n",
              "</div>\n",
              "    <div class=\"colab-df-buttons\">\n",
              "\n",
              "  <div class=\"colab-df-container\">\n",
              "    <button class=\"colab-df-convert\" onclick=\"convertToInteractive('df-e33afc8b-2156-4547-b944-59f6cdb94e52')\"\n",
              "            title=\"Convert this dataframe to an interactive table.\"\n",
              "            style=\"display:none;\">\n",
              "\n",
              "  <svg xmlns=\"http://www.w3.org/2000/svg\" height=\"24px\" viewBox=\"0 -960 960 960\">\n",
              "    <path d=\"M120-120v-720h720v720H120Zm60-500h600v-160H180v160Zm220 220h160v-160H400v160Zm0 220h160v-160H400v160ZM180-400h160v-160H180v160Zm440 0h160v-160H620v160ZM180-180h160v-160H180v160Zm440 0h160v-160H620v160Z\"/>\n",
              "  </svg>\n",
              "    </button>\n",
              "\n",
              "  <style>\n",
              "    .colab-df-container {\n",
              "      display:flex;\n",
              "      gap: 12px;\n",
              "    }\n",
              "\n",
              "    .colab-df-convert {\n",
              "      background-color: #E8F0FE;\n",
              "      border: none;\n",
              "      border-radius: 50%;\n",
              "      cursor: pointer;\n",
              "      display: none;\n",
              "      fill: #1967D2;\n",
              "      height: 32px;\n",
              "      padding: 0 0 0 0;\n",
              "      width: 32px;\n",
              "    }\n",
              "\n",
              "    .colab-df-convert:hover {\n",
              "      background-color: #E2EBFA;\n",
              "      box-shadow: 0px 1px 2px rgba(60, 64, 67, 0.3), 0px 1px 3px 1px rgba(60, 64, 67, 0.15);\n",
              "      fill: #174EA6;\n",
              "    }\n",
              "\n",
              "    .colab-df-buttons div {\n",
              "      margin-bottom: 4px;\n",
              "    }\n",
              "\n",
              "    [theme=dark] .colab-df-convert {\n",
              "      background-color: #3B4455;\n",
              "      fill: #D2E3FC;\n",
              "    }\n",
              "\n",
              "    [theme=dark] .colab-df-convert:hover {\n",
              "      background-color: #434B5C;\n",
              "      box-shadow: 0px 1px 3px 1px rgba(0, 0, 0, 0.15);\n",
              "      filter: drop-shadow(0px 1px 2px rgba(0, 0, 0, 0.3));\n",
              "      fill: #FFFFFF;\n",
              "    }\n",
              "  </style>\n",
              "\n",
              "    <script>\n",
              "      const buttonEl =\n",
              "        document.querySelector('#df-e33afc8b-2156-4547-b944-59f6cdb94e52 button.colab-df-convert');\n",
              "      buttonEl.style.display =\n",
              "        google.colab.kernel.accessAllowed ? 'block' : 'none';\n",
              "\n",
              "      async function convertToInteractive(key) {\n",
              "        const element = document.querySelector('#df-e33afc8b-2156-4547-b944-59f6cdb94e52');\n",
              "        const dataTable =\n",
              "          await google.colab.kernel.invokeFunction('convertToInteractive',\n",
              "                                                    [key], {});\n",
              "        if (!dataTable) return;\n",
              "\n",
              "        const docLinkHtml = 'Like what you see? Visit the ' +\n",
              "          '<a target=\"_blank\" href=https://colab.research.google.com/notebooks/data_table.ipynb>data table notebook</a>'\n",
              "          + ' to learn more about interactive tables.';\n",
              "        element.innerHTML = '';\n",
              "        dataTable['output_type'] = 'display_data';\n",
              "        await google.colab.output.renderOutput(dataTable, element);\n",
              "        const docLink = document.createElement('div');\n",
              "        docLink.innerHTML = docLinkHtml;\n",
              "        element.appendChild(docLink);\n",
              "      }\n",
              "    </script>\n",
              "  </div>\n",
              "\n",
              "\n",
              "<div id=\"df-84f020f0-e89a-4bdd-925f-65ffb7f92931\">\n",
              "  <button class=\"colab-df-quickchart\" onclick=\"quickchart('df-84f020f0-e89a-4bdd-925f-65ffb7f92931')\"\n",
              "            title=\"Suggest charts\"\n",
              "            style=\"display:none;\">\n",
              "\n",
              "<svg xmlns=\"http://www.w3.org/2000/svg\" height=\"24px\"viewBox=\"0 0 24 24\"\n",
              "     width=\"24px\">\n",
              "    <g>\n",
              "        <path d=\"M19 3H5c-1.1 0-2 .9-2 2v14c0 1.1.9 2 2 2h14c1.1 0 2-.9 2-2V5c0-1.1-.9-2-2-2zM9 17H7v-7h2v7zm4 0h-2V7h2v10zm4 0h-2v-4h2v4z\"/>\n",
              "    </g>\n",
              "</svg>\n",
              "  </button>\n",
              "\n",
              "<style>\n",
              "  .colab-df-quickchart {\n",
              "      --bg-color: #E8F0FE;\n",
              "      --fill-color: #1967D2;\n",
              "      --hover-bg-color: #E2EBFA;\n",
              "      --hover-fill-color: #174EA6;\n",
              "      --disabled-fill-color: #AAA;\n",
              "      --disabled-bg-color: #DDD;\n",
              "  }\n",
              "\n",
              "  [theme=dark] .colab-df-quickchart {\n",
              "      --bg-color: #3B4455;\n",
              "      --fill-color: #D2E3FC;\n",
              "      --hover-bg-color: #434B5C;\n",
              "      --hover-fill-color: #FFFFFF;\n",
              "      --disabled-bg-color: #3B4455;\n",
              "      --disabled-fill-color: #666;\n",
              "  }\n",
              "\n",
              "  .colab-df-quickchart {\n",
              "    background-color: var(--bg-color);\n",
              "    border: none;\n",
              "    border-radius: 50%;\n",
              "    cursor: pointer;\n",
              "    display: none;\n",
              "    fill: var(--fill-color);\n",
              "    height: 32px;\n",
              "    padding: 0;\n",
              "    width: 32px;\n",
              "  }\n",
              "\n",
              "  .colab-df-quickchart:hover {\n",
              "    background-color: var(--hover-bg-color);\n",
              "    box-shadow: 0 1px 2px rgba(60, 64, 67, 0.3), 0 1px 3px 1px rgba(60, 64, 67, 0.15);\n",
              "    fill: var(--button-hover-fill-color);\n",
              "  }\n",
              "\n",
              "  .colab-df-quickchart-complete:disabled,\n",
              "  .colab-df-quickchart-complete:disabled:hover {\n",
              "    background-color: var(--disabled-bg-color);\n",
              "    fill: var(--disabled-fill-color);\n",
              "    box-shadow: none;\n",
              "  }\n",
              "\n",
              "  .colab-df-spinner {\n",
              "    border: 2px solid var(--fill-color);\n",
              "    border-color: transparent;\n",
              "    border-bottom-color: var(--fill-color);\n",
              "    animation:\n",
              "      spin 1s steps(1) infinite;\n",
              "  }\n",
              "\n",
              "  @keyframes spin {\n",
              "    0% {\n",
              "      border-color: transparent;\n",
              "      border-bottom-color: var(--fill-color);\n",
              "      border-left-color: var(--fill-color);\n",
              "    }\n",
              "    20% {\n",
              "      border-color: transparent;\n",
              "      border-left-color: var(--fill-color);\n",
              "      border-top-color: var(--fill-color);\n",
              "    }\n",
              "    30% {\n",
              "      border-color: transparent;\n",
              "      border-left-color: var(--fill-color);\n",
              "      border-top-color: var(--fill-color);\n",
              "      border-right-color: var(--fill-color);\n",
              "    }\n",
              "    40% {\n",
              "      border-color: transparent;\n",
              "      border-right-color: var(--fill-color);\n",
              "      border-top-color: var(--fill-color);\n",
              "    }\n",
              "    60% {\n",
              "      border-color: transparent;\n",
              "      border-right-color: var(--fill-color);\n",
              "    }\n",
              "    80% {\n",
              "      border-color: transparent;\n",
              "      border-right-color: var(--fill-color);\n",
              "      border-bottom-color: var(--fill-color);\n",
              "    }\n",
              "    90% {\n",
              "      border-color: transparent;\n",
              "      border-bottom-color: var(--fill-color);\n",
              "    }\n",
              "  }\n",
              "</style>\n",
              "\n",
              "  <script>\n",
              "    async function quickchart(key) {\n",
              "      const quickchartButtonEl =\n",
              "        document.querySelector('#' + key + ' button');\n",
              "      quickchartButtonEl.disabled = true;  // To prevent multiple clicks.\n",
              "      quickchartButtonEl.classList.add('colab-df-spinner');\n",
              "      try {\n",
              "        const charts = await google.colab.kernel.invokeFunction(\n",
              "            'suggestCharts', [key], {});\n",
              "      } catch (error) {\n",
              "        console.error('Error during call to suggestCharts:', error);\n",
              "      }\n",
              "      quickchartButtonEl.classList.remove('colab-df-spinner');\n",
              "      quickchartButtonEl.classList.add('colab-df-quickchart-complete');\n",
              "    }\n",
              "    (() => {\n",
              "      let quickchartButtonEl =\n",
              "        document.querySelector('#df-84f020f0-e89a-4bdd-925f-65ffb7f92931 button');\n",
              "      quickchartButtonEl.style.display =\n",
              "        google.colab.kernel.accessAllowed ? 'block' : 'none';\n",
              "    })();\n",
              "  </script>\n",
              "</div>\n",
              "\n",
              "    </div>\n",
              "  </div>\n"
            ],
            "application/vnd.google.colaboratory.intrinsic+json": {
              "type": "dataframe",
              "variable_name": "df",
              "summary": "{\n  \"name\": \"df\",\n  \"rows\": 891,\n  \"fields\": [\n    {\n      \"column\": \"PassengerId\",\n      \"properties\": {\n        \"dtype\": \"number\",\n        \"std\": 257,\n        \"min\": 1,\n        \"max\": 891,\n        \"num_unique_values\": 891,\n        \"samples\": [\n          710,\n          440,\n          841\n        ],\n        \"semantic_type\": \"\",\n        \"description\": \"\"\n      }\n    },\n    {\n      \"column\": \"Pclass\",\n      \"properties\": {\n        \"dtype\": \"number\",\n        \"std\": 0,\n        \"min\": 1,\n        \"max\": 3,\n        \"num_unique_values\": 3,\n        \"samples\": [\n          3,\n          1,\n          2\n        ],\n        \"semantic_type\": \"\",\n        \"description\": \"\"\n      }\n    },\n    {\n      \"column\": \"Sex\",\n      \"properties\": {\n        \"dtype\": \"number\",\n        \"std\": 0,\n        \"min\": 0,\n        \"max\": 1,\n        \"num_unique_values\": 2,\n        \"samples\": [\n          1,\n          0\n        ],\n        \"semantic_type\": \"\",\n        \"description\": \"\"\n      }\n    },\n    {\n      \"column\": \"Age\",\n      \"properties\": {\n        \"dtype\": \"number\",\n        \"std\": 13.019696550973194,\n        \"min\": 0.42,\n        \"max\": 80.0,\n        \"num_unique_values\": 88,\n        \"samples\": [\n          0.75,\n          22.0\n        ],\n        \"semantic_type\": \"\",\n        \"description\": \"\"\n      }\n    },\n    {\n      \"column\": \"SibSp\",\n      \"properties\": {\n        \"dtype\": \"number\",\n        \"std\": 1,\n        \"min\": 0,\n        \"max\": 8,\n        \"num_unique_values\": 7,\n        \"samples\": [\n          1,\n          0\n        ],\n        \"semantic_type\": \"\",\n        \"description\": \"\"\n      }\n    },\n    {\n      \"column\": \"Parch\",\n      \"properties\": {\n        \"dtype\": \"number\",\n        \"std\": 0,\n        \"min\": 0,\n        \"max\": 6,\n        \"num_unique_values\": 7,\n        \"samples\": [\n          0,\n          1\n        ],\n        \"semantic_type\": \"\",\n        \"description\": \"\"\n      }\n    },\n    {\n      \"column\": \"Fare\",\n      \"properties\": {\n        \"dtype\": \"number\",\n        \"std\": 49.693428597180905,\n        \"min\": 0.0,\n        \"max\": 512.3292,\n        \"num_unique_values\": 248,\n        \"samples\": [\n          11.2417,\n          51.8625\n        ],\n        \"semantic_type\": \"\",\n        \"description\": \"\"\n      }\n    },\n    {\n      \"column\": \"Embarked\",\n      \"properties\": {\n        \"dtype\": \"number\",\n        \"std\": 0,\n        \"min\": -1,\n        \"max\": 2,\n        \"num_unique_values\": 4,\n        \"samples\": [\n          1,\n          -1\n        ],\n        \"semantic_type\": \"\",\n        \"description\": \"\"\n      }\n    },\n    {\n      \"column\": \"Title\",\n      \"properties\": {\n        \"dtype\": \"number\",\n        \"std\": 1,\n        \"min\": 0,\n        \"max\": 16,\n        \"num_unique_values\": 17,\n        \"samples\": [\n          0,\n          1\n        ],\n        \"semantic_type\": \"\",\n        \"description\": \"\"\n      }\n    },\n    {\n      \"column\": \"Survived\",\n      \"properties\": {\n        \"dtype\": \"number\",\n        \"std\": 0,\n        \"min\": 0,\n        \"max\": 1,\n        \"num_unique_values\": 2,\n        \"samples\": [\n          1,\n          0\n        ],\n        \"semantic_type\": \"\",\n        \"description\": \"\"\n      }\n    }\n  ]\n}"
            }
          },
          "metadata": {},
          "execution_count": 3
        }
      ]
    },
    {
      "cell_type": "markdown",
      "source": [
        "## 3. Chia biến X, y"
      ],
      "metadata": {
        "id": "HMcRAw0DVrub"
      }
    },
    {
      "cell_type": "markdown",
      "source": [
        "Chuyển đổi DataFrame hiện tại thành array và tách hai biến X, y"
      ],
      "metadata": {
        "id": "AgIBoEf8V0Ta"
      }
    },
    {
      "cell_type": "code",
      "source": [
        "dataset_arr = df.to_numpy().astype(np.float64)\n",
        "X, y = dataset_arr[:, :-1], dataset_arr[:, -1]"
      ],
      "metadata": {
        "id": "YVnwCfL6VTY0"
      },
      "execution_count": 4,
      "outputs": []
    },
    {
      "cell_type": "code",
      "source": [
        "dataset_arr"
      ],
      "metadata": {
        "colab": {
          "base_uri": "https://localhost:8080/"
        },
        "id": "aozilTV4WWsv",
        "outputId": "f065b288-5eb2-4b5a-9ae7-1b26a1290cb8"
      },
      "execution_count": 5,
      "outputs": [
        {
          "output_type": "execute_result",
          "data": {
            "text/plain": [
              "array([[ 3.,  0., 22., ...,  0.,  0.,  0.],\n",
              "       [ 1.,  1., 38., ...,  1.,  1.,  1.],\n",
              "       [ 3.,  1., 26., ...,  0.,  2.,  1.],\n",
              "       ...,\n",
              "       [ 3.,  1., 28., ...,  0.,  2.,  0.],\n",
              "       [ 1.,  0., 26., ...,  1.,  0.,  1.],\n",
              "       [ 3.,  0., 32., ...,  2.,  0.,  0.]])"
            ]
          },
          "metadata": {},
          "execution_count": 5
        }
      ]
    },
    {
      "cell_type": "markdown",
      "source": [
        "## 4. Thêm bias vào X"
      ],
      "metadata": {
        "id": "SiKIwKEUWu0J"
      }
    },
    {
      "cell_type": "markdown",
      "source": [
        "Khi triển khai lại từ đầu, cần phải tự thêm bias vào mỗi mẫu dữ liệu nhằm thỏa mãn công thức hàm dự đoán"
      ],
      "metadata": {
        "id": "GMByThXAWyYb"
      }
    },
    {
      "cell_type": "code",
      "source": [
        "intercept = np.ones((X.shape[0], 1))\n",
        "X_b = np.concatenate((intercept, X), axis = 1)"
      ],
      "metadata": {
        "id": "owLNxNJeWYB1"
      },
      "execution_count": 6,
      "outputs": []
    },
    {
      "cell_type": "markdown",
      "source": [
        "## 5. Chia tập train, val, test"
      ],
      "metadata": {
        "id": "Rvdl2lPAXVh9"
      }
    },
    {
      "cell_type": "markdown",
      "source": [],
      "metadata": {
        "id": "Lsjwq8SUXY0y"
      }
    },
    {
      "cell_type": "code",
      "source": [
        "val_size = 0.2\n",
        "test_size = 0.125\n",
        "random_state = 2\n",
        "is_shuffle = True\n",
        "\n",
        "X_train, X_val, y_train, y_val = train_test_split(X_b, y, test_size = val_size, random_state = random_state, shuffle = is_shuffle)\n",
        "X_train, X_test, y_train, y_test = train_test_split(X_train, y_train, test_size = test_size, random_state = random_state, shuffle = is_shuffle)"
      ],
      "metadata": {
        "id": "SnRdRrBoXUqe"
      },
      "execution_count": 7,
      "outputs": []
    },
    {
      "cell_type": "markdown",
      "source": [
        "## 6. Chuẩn hóa dữ liệu"
      ],
      "metadata": {
        "id": "aWc-gLLfYOf5"
      }
    },
    {
      "cell_type": "markdown",
      "source": [
        "Sử dụng X_train ở trên fit vào hàm chuẩn hóa StandardScaler, sau đó đem scaler này chuẩn hóa cho tập X_val và X_test(bỏ qua cột đầu tiên trong X vì không chuẩn hóa bias)"
      ],
      "metadata": {
        "id": "PYu_JLdVYS8l"
      }
    },
    {
      "cell_type": "code",
      "source": [
        "normalizer = StandardScaler()\n",
        "X_train[:, 1:] = normalizer.fit_transform(X_train[:, 1:])\n",
        "X_val[:, 1:] = normalizer.transform(X_val[:, 1:])\n",
        "X_test[:, 1:] = normalizer.transform(X_test[:, 1:])"
      ],
      "metadata": {
        "id": "VuOQvlN3Yx8g"
      },
      "execution_count": 8,
      "outputs": []
    },
    {
      "cell_type": "markdown",
      "source": [
        "## 7. Cài đặt các hàm quan trọng"
      ],
      "metadata": {
        "id": "krIrKv6YZoPt"
      }
    },
    {
      "cell_type": "markdown",
      "source": [
        "Hàm sigmoid"
      ],
      "metadata": {
        "id": "R1RFEMrBZ0GA"
      }
    },
    {
      "cell_type": "code",
      "source": [
        "def sigmoid(z):\n",
        "    return 1 / (1 + np.exp(-z))"
      ],
      "metadata": {
        "id": "ZIGh8WKXYyyR"
      },
      "execution_count": 9,
      "outputs": []
    },
    {
      "cell_type": "markdown",
      "source": [
        "Hàm dự đoán"
      ],
      "metadata": {
        "id": "mUOxho0rZ4M_"
      }
    },
    {
      "cell_type": "code",
      "source": [
        "def predict(X, theta):\n",
        "    dot_product = np.dot(X, theta)\n",
        "    y_hat = sigmoid(dot_product)\n",
        "\n",
        "    return y_hat"
      ],
      "metadata": {
        "id": "qTQQE_3UYKPm"
      },
      "execution_count": 10,
      "outputs": []
    },
    {
      "cell_type": "markdown",
      "source": [
        "Hàm tính loss"
      ],
      "metadata": {
        "id": "ZUWfm9wgadV7"
      }
    },
    {
      "cell_type": "code",
      "source": [
        "def compute_loss(y_hat, y):\n",
        "  y_hat = np.clip(y_hat, 1e-7, 1 - 1e-7)\n",
        "  return (-y * np.log(y_hat) - (1 - y) * np.log(1 - y_hat)).mean()"
      ],
      "metadata": {
        "id": "QQGXPtCGaWli"
      },
      "execution_count": 11,
      "outputs": []
    },
    {
      "cell_type": "markdown",
      "source": [
        "Hàm tính gradient"
      ],
      "metadata": {
        "id": "t7yflwCx8c_e"
      }
    },
    {
      "cell_type": "code",
      "source": [
        "def compute_gradient(X, y, y_hat):\n",
        "  return np.dot(X.T, (y_hat - y)) / y.size"
      ],
      "metadata": {
        "id": "IGmUYICw8cDr"
      },
      "execution_count": 12,
      "outputs": []
    },
    {
      "cell_type": "markdown",
      "source": [
        "Hàm cập nhật trọng số"
      ],
      "metadata": {
        "id": "U5Q5vBGF9OcH"
      }
    },
    {
      "cell_type": "code",
      "source": [
        "def update_theta(theta, gradient, lr):\n",
        "  return theta - lr * gradient"
      ],
      "metadata": {
        "id": "5_igI9nv9Nzg"
      },
      "execution_count": 13,
      "outputs": []
    },
    {
      "cell_type": "markdown",
      "source": [
        "Hàm tính độ chính xác"
      ],
      "metadata": {
        "id": "pkDTRgt89eBg"
      }
    },
    {
      "cell_type": "code",
      "source": [
        "def compute_accuracy(X, y, theta):\n",
        "  y_hat = predict(X, theta).round()\n",
        "  acc = (y_hat == y).mean()\n",
        "\n",
        "  return acc"
      ],
      "metadata": {
        "id": "q3bUuLGL9UZQ"
      },
      "execution_count": 14,
      "outputs": []
    },
    {
      "cell_type": "markdown",
      "source": [
        "## 8. Khai báo các siêu tham số và khởi tạo weights"
      ],
      "metadata": {
        "id": "lfC4my_p94eK"
      }
    },
    {
      "cell_type": "code",
      "source": [
        "lr = 0.01\n",
        "epochs = 100\n",
        "batch_size = 16\n",
        "\n",
        "np.random.seed(random_state)\n",
        "theta = np.random.uniform(size = X_train.shape[1])"
      ],
      "metadata": {
        "id": "ZIRa9x5I93RL"
      },
      "execution_count": 15,
      "outputs": []
    },
    {
      "cell_type": "markdown",
      "source": [
        "## 9. Huấn luyện mô hình"
      ],
      "metadata": {
        "id": "DkbOYTfI-Oid"
      }
    },
    {
      "cell_type": "code",
      "source": [
        "train_accs = []\n",
        "train_losses = []\n",
        "val_accs = []\n",
        "val_losses = []\n",
        "\n",
        "for epoch in range(epochs):\n",
        "    train_batch_losses = []\n",
        "    train_batch_accs = []\n",
        "    val_batch_losses = []\n",
        "    val_batch_accs = []\n",
        "\n",
        "    for i in range(0, X_train.shape[0], batch_size):\n",
        "        X_i = X_train[i:i+batch_size]\n",
        "        y_i = y_train[i:i+batch_size]\n",
        "\n",
        "        y_hat = predict(X_i, theta)\n",
        "\n",
        "        train_loss = compute_loss(y_hat, y_i)\n",
        "\n",
        "        gradient = compute_gradient(X_i, y_i, y_hat)\n",
        "\n",
        "        theta = update_theta(theta, gradient, lr)\n",
        "\n",
        "\n",
        "        train_batch_losses.append(train_loss)\n",
        "        train_acc = compute_accuracy(X_train, y_train, theta)\n",
        "        train_batch_accs.append(train_acc)\n",
        "\n",
        "        y_val_hat = predict(X_val, theta)\n",
        "        val_loss = compute_loss(y_val_hat, y_val)\n",
        "        val_batch_losses.append(val_loss)\n",
        "\n",
        "        val_acc = compute_accuracy(X_val, y_val, theta)\n",
        "        val_batch_accs.append(val_acc)\n",
        "\n",
        "    train_batch_loss = sum(train_batch_losses)/len(train_batch_losses)\n",
        "    val_batch_loss = sum(val_batch_losses)/len(val_batch_losses)\n",
        "    train_batch_acc = sum(train_batch_accs)/len(train_batch_accs)\n",
        "    val_batch_acc = sum(val_batch_accs)/len(val_batch_accs)\n",
        "\n",
        "    train_losses.append(train_batch_loss)\n",
        "    val_losses.append(val_batch_loss)\n",
        "    train_accs.append(train_batch_acc)\n",
        "    val_accs.append(val_batch_acc)\n",
        "    print(f'\\nEPOCH {epoch + 1}:\\tTraining loss: {train_batch_loss:.3f}\\tValidation loss: {val_batch_loss:.3f}')\n"
      ],
      "metadata": {
        "colab": {
          "base_uri": "https://localhost:8080/"
        },
        "id": "z7COEpYx-PC3",
        "outputId": "9212405e-723f-4f80-dc52-e66768ded6af"
      },
      "execution_count": 16,
      "outputs": [
        {
          "output_type": "stream",
          "name": "stdout",
          "text": [
            "\n",
            "EPOCH 1:\tTraining loss: 0.703\tValidation loss: 0.599\n",
            "\n",
            "EPOCH 2:\tTraining loss: 0.670\tValidation loss: 0.582\n",
            "\n",
            "EPOCH 3:\tTraining loss: 0.640\tValidation loss: 0.567\n",
            "\n",
            "EPOCH 4:\tTraining loss: 0.614\tValidation loss: 0.555\n",
            "\n",
            "EPOCH 5:\tTraining loss: 0.592\tValidation loss: 0.544\n",
            "\n",
            "EPOCH 6:\tTraining loss: 0.572\tValidation loss: 0.535\n",
            "\n",
            "EPOCH 7:\tTraining loss: 0.554\tValidation loss: 0.528\n",
            "\n",
            "EPOCH 8:\tTraining loss: 0.539\tValidation loss: 0.522\n",
            "\n",
            "EPOCH 9:\tTraining loss: 0.526\tValidation loss: 0.517\n",
            "\n",
            "EPOCH 10:\tTraining loss: 0.514\tValidation loss: 0.513\n",
            "\n",
            "EPOCH 11:\tTraining loss: 0.504\tValidation loss: 0.509\n",
            "\n",
            "EPOCH 12:\tTraining loss: 0.495\tValidation loss: 0.507\n",
            "\n",
            "EPOCH 13:\tTraining loss: 0.487\tValidation loss: 0.505\n",
            "\n",
            "EPOCH 14:\tTraining loss: 0.480\tValidation loss: 0.503\n",
            "\n",
            "EPOCH 15:\tTraining loss: 0.474\tValidation loss: 0.502\n",
            "\n",
            "EPOCH 16:\tTraining loss: 0.468\tValidation loss: 0.501\n",
            "\n",
            "EPOCH 17:\tTraining loss: 0.463\tValidation loss: 0.500\n",
            "\n",
            "EPOCH 18:\tTraining loss: 0.459\tValidation loss: 0.500\n",
            "\n",
            "EPOCH 19:\tTraining loss: 0.455\tValidation loss: 0.500\n",
            "\n",
            "EPOCH 20:\tTraining loss: 0.452\tValidation loss: 0.500\n",
            "\n",
            "EPOCH 21:\tTraining loss: 0.449\tValidation loss: 0.499\n",
            "\n",
            "EPOCH 22:\tTraining loss: 0.446\tValidation loss: 0.500\n",
            "\n",
            "EPOCH 23:\tTraining loss: 0.443\tValidation loss: 0.500\n",
            "\n",
            "EPOCH 24:\tTraining loss: 0.441\tValidation loss: 0.500\n",
            "\n",
            "EPOCH 25:\tTraining loss: 0.439\tValidation loss: 0.500\n",
            "\n",
            "EPOCH 26:\tTraining loss: 0.437\tValidation loss: 0.500\n",
            "\n",
            "EPOCH 27:\tTraining loss: 0.435\tValidation loss: 0.501\n",
            "\n",
            "EPOCH 28:\tTraining loss: 0.434\tValidation loss: 0.501\n",
            "\n",
            "EPOCH 29:\tTraining loss: 0.432\tValidation loss: 0.502\n",
            "\n",
            "EPOCH 30:\tTraining loss: 0.431\tValidation loss: 0.502\n",
            "\n",
            "EPOCH 31:\tTraining loss: 0.430\tValidation loss: 0.502\n",
            "\n",
            "EPOCH 32:\tTraining loss: 0.429\tValidation loss: 0.503\n",
            "\n",
            "EPOCH 33:\tTraining loss: 0.428\tValidation loss: 0.503\n",
            "\n",
            "EPOCH 34:\tTraining loss: 0.427\tValidation loss: 0.504\n",
            "\n",
            "EPOCH 35:\tTraining loss: 0.426\tValidation loss: 0.504\n",
            "\n",
            "EPOCH 36:\tTraining loss: 0.425\tValidation loss: 0.504\n",
            "\n",
            "EPOCH 37:\tTraining loss: 0.424\tValidation loss: 0.505\n",
            "\n",
            "EPOCH 38:\tTraining loss: 0.424\tValidation loss: 0.505\n",
            "\n",
            "EPOCH 39:\tTraining loss: 0.423\tValidation loss: 0.506\n",
            "\n",
            "EPOCH 40:\tTraining loss: 0.422\tValidation loss: 0.506\n",
            "\n",
            "EPOCH 41:\tTraining loss: 0.422\tValidation loss: 0.506\n",
            "\n",
            "EPOCH 42:\tTraining loss: 0.421\tValidation loss: 0.507\n",
            "\n",
            "EPOCH 43:\tTraining loss: 0.421\tValidation loss: 0.507\n",
            "\n",
            "EPOCH 44:\tTraining loss: 0.420\tValidation loss: 0.507\n",
            "\n",
            "EPOCH 45:\tTraining loss: 0.420\tValidation loss: 0.508\n",
            "\n",
            "EPOCH 46:\tTraining loss: 0.420\tValidation loss: 0.508\n",
            "\n",
            "EPOCH 47:\tTraining loss: 0.419\tValidation loss: 0.509\n",
            "\n",
            "EPOCH 48:\tTraining loss: 0.419\tValidation loss: 0.509\n",
            "\n",
            "EPOCH 49:\tTraining loss: 0.418\tValidation loss: 0.509\n",
            "\n",
            "EPOCH 50:\tTraining loss: 0.418\tValidation loss: 0.510\n",
            "\n",
            "EPOCH 51:\tTraining loss: 0.418\tValidation loss: 0.510\n",
            "\n",
            "EPOCH 52:\tTraining loss: 0.417\tValidation loss: 0.510\n",
            "\n",
            "EPOCH 53:\tTraining loss: 0.417\tValidation loss: 0.510\n",
            "\n",
            "EPOCH 54:\tTraining loss: 0.417\tValidation loss: 0.511\n",
            "\n",
            "EPOCH 55:\tTraining loss: 0.417\tValidation loss: 0.511\n",
            "\n",
            "EPOCH 56:\tTraining loss: 0.416\tValidation loss: 0.511\n",
            "\n",
            "EPOCH 57:\tTraining loss: 0.416\tValidation loss: 0.512\n",
            "\n",
            "EPOCH 58:\tTraining loss: 0.416\tValidation loss: 0.512\n",
            "\n",
            "EPOCH 59:\tTraining loss: 0.416\tValidation loss: 0.512\n",
            "\n",
            "EPOCH 60:\tTraining loss: 0.416\tValidation loss: 0.512\n",
            "\n",
            "EPOCH 61:\tTraining loss: 0.415\tValidation loss: 0.513\n",
            "\n",
            "EPOCH 62:\tTraining loss: 0.415\tValidation loss: 0.513\n",
            "\n",
            "EPOCH 63:\tTraining loss: 0.415\tValidation loss: 0.513\n",
            "\n",
            "EPOCH 64:\tTraining loss: 0.415\tValidation loss: 0.513\n",
            "\n",
            "EPOCH 65:\tTraining loss: 0.415\tValidation loss: 0.514\n",
            "\n",
            "EPOCH 66:\tTraining loss: 0.415\tValidation loss: 0.514\n",
            "\n",
            "EPOCH 67:\tTraining loss: 0.415\tValidation loss: 0.514\n",
            "\n",
            "EPOCH 68:\tTraining loss: 0.414\tValidation loss: 0.514\n",
            "\n",
            "EPOCH 69:\tTraining loss: 0.414\tValidation loss: 0.514\n",
            "\n",
            "EPOCH 70:\tTraining loss: 0.414\tValidation loss: 0.515\n",
            "\n",
            "EPOCH 71:\tTraining loss: 0.414\tValidation loss: 0.515\n",
            "\n",
            "EPOCH 72:\tTraining loss: 0.414\tValidation loss: 0.515\n",
            "\n",
            "EPOCH 73:\tTraining loss: 0.414\tValidation loss: 0.515\n",
            "\n",
            "EPOCH 74:\tTraining loss: 0.414\tValidation loss: 0.515\n",
            "\n",
            "EPOCH 75:\tTraining loss: 0.414\tValidation loss: 0.516\n",
            "\n",
            "EPOCH 76:\tTraining loss: 0.414\tValidation loss: 0.516\n",
            "\n",
            "EPOCH 77:\tTraining loss: 0.413\tValidation loss: 0.516\n",
            "\n",
            "EPOCH 78:\tTraining loss: 0.413\tValidation loss: 0.516\n",
            "\n",
            "EPOCH 79:\tTraining loss: 0.413\tValidation loss: 0.516\n",
            "\n",
            "EPOCH 80:\tTraining loss: 0.413\tValidation loss: 0.517\n",
            "\n",
            "EPOCH 81:\tTraining loss: 0.413\tValidation loss: 0.517\n",
            "\n",
            "EPOCH 82:\tTraining loss: 0.413\tValidation loss: 0.517\n",
            "\n",
            "EPOCH 83:\tTraining loss: 0.413\tValidation loss: 0.517\n",
            "\n",
            "EPOCH 84:\tTraining loss: 0.413\tValidation loss: 0.517\n",
            "\n",
            "EPOCH 85:\tTraining loss: 0.413\tValidation loss: 0.517\n",
            "\n",
            "EPOCH 86:\tTraining loss: 0.413\tValidation loss: 0.517\n",
            "\n",
            "EPOCH 87:\tTraining loss: 0.413\tValidation loss: 0.518\n",
            "\n",
            "EPOCH 88:\tTraining loss: 0.413\tValidation loss: 0.518\n",
            "\n",
            "EPOCH 89:\tTraining loss: 0.413\tValidation loss: 0.518\n",
            "\n",
            "EPOCH 90:\tTraining loss: 0.413\tValidation loss: 0.518\n",
            "\n",
            "EPOCH 91:\tTraining loss: 0.413\tValidation loss: 0.518\n",
            "\n",
            "EPOCH 92:\tTraining loss: 0.413\tValidation loss: 0.518\n",
            "\n",
            "EPOCH 93:\tTraining loss: 0.413\tValidation loss: 0.518\n",
            "\n",
            "EPOCH 94:\tTraining loss: 0.412\tValidation loss: 0.519\n",
            "\n",
            "EPOCH 95:\tTraining loss: 0.412\tValidation loss: 0.519\n",
            "\n",
            "EPOCH 96:\tTraining loss: 0.412\tValidation loss: 0.519\n",
            "\n",
            "EPOCH 97:\tTraining loss: 0.412\tValidation loss: 0.519\n",
            "\n",
            "EPOCH 98:\tTraining loss: 0.412\tValidation loss: 0.519\n",
            "\n",
            "EPOCH 99:\tTraining loss: 0.412\tValidation loss: 0.519\n",
            "\n",
            "EPOCH 100:\tTraining loss: 0.412\tValidation loss: 0.519\n"
          ]
        }
      ]
    },
    {
      "cell_type": "code",
      "source": [
        "fig, ax = plt.subplots(2, 2, figsize=(12 , 10))\n",
        "ax[0, 0].plot(train_losses)\n",
        "ax[0, 0].set(xlabel='Epoch', ylabel='Loss')\n",
        "ax[0, 0].set_title('Training Loss')\n",
        "\n",
        "ax[0, 1].plot(val_losses, 'orange')\n",
        "ax[0, 1].set(xlabel='Epoch', ylabel='Loss')\n",
        "ax[0, 1].set_title('Validation Loss')\n",
        "\n",
        "ax[1, 0].plot(train_accs)\n",
        "ax[1, 0].set(xlabel='Epoch', ylabel='Accuracy')\n",
        "ax[1, 0].set_title('Training Accuracy')\n",
        "\n",
        "ax[1, 1].plot(val_accs, 'orange')\n",
        "ax[1, 1].set(xlabel='Epoch', ylabel='Accuracy')\n",
        "ax[1, 1].set_title('Validation Accuracy')\n",
        "\n",
        "plt.show()"
      ],
      "metadata": {
        "colab": {
          "base_uri": "https://localhost:8080/",
          "height": 872
        },
        "id": "sLf9MuIRB2TY",
        "outputId": "798d39a5-2f5e-4feb-ac84-0ecf5c45ce51"
      },
      "execution_count": 17,
      "outputs": [
        {
          "output_type": "display_data",
          "data": {
            "text/plain": [
              "<Figure size 1200x1000 with 4 Axes>"
            ],
            "image/png": "[encoded data removed]"
          },
          "metadata": {}
        }
      ]
    },
    {
      "cell_type": "markdown",
      "source": [
        "## 10. Đánh giá mô hình"
      ],
      "metadata": {
        "id": "c_JvL-3YEs71"
      }
    },
    {
      "cell_type": "code",
      "source": [
        "val_set_acc = compute_accuracy(X_val, y_val, theta)\n",
        "test_set_acc = compute_accuracy(X_test, y_test, theta)\n",
        "print('Evaluation on validation and test set:')\n",
        "print(f'Accuracy: { val_set_acc }')\n",
        "print(f'Accuracy : { test_set_acc }')"
      ],
      "metadata": {
        "colab": {
          "base_uri": "https://localhost:8080/"
        },
        "id": "egtV3j3QDvFu",
        "outputId": "48f95516-2c2c-4177-fecf-6a32afabb4b8"
      },
      "execution_count": 18,
      "outputs": [
        {
          "output_type": "stream",
          "name": "stdout",
          "text": [
            "Evaluation on validation and test set:\n",
            "Accuracy: 0.770949720670391\n",
            "Accuracy : 0.7752808988764045\n"
          ]
        }
      ]
    },
    {
      "cell_type": "markdown",
      "source": [
        "## **Twitter Sentiment Analysis**"
      ],
      "metadata": {
        "id": "1Tkq4YQHGp6V"
      }
    },
    {
      "cell_type": "markdown",
      "source": [
        "## 1. Import libraries"
      ],
      "metadata": {
        "id": "THYEEb2jG9FQ"
      }
    },
    {
      "cell_type": "code",
      "source": [
        "import pandas as pd\n",
        "import numpy as np\n",
        "\n",
        "import re\n",
        "import nltk\n",
        "import matplotlib.pyplot as plt\n",
        "from sklearn.model_selection import train_test_split\n",
        "from sklearn.preprocessing import StandardScaler\n",
        "from nltk.tokenize import TweetTokenizer\n",
        "from collections import defaultdict"
      ],
      "metadata": {
        "id": "4OLtBktIGosb"
      },
      "execution_count": 19,
      "outputs": []
    },
    {
      "cell_type": "markdown",
      "source": [
        "## 2. Đọc bộ dữ liệu"
      ],
      "metadata": {
        "id": "xGXrdcS6J0Ay"
      }
    },
    {
      "cell_type": "code",
      "source": [
        "dataset_path = 'sentiment_analysis.csv'\n",
        "df = pd.read_csv(dataset_path, index_col = 'id')"
      ],
      "metadata": {
        "id": "KEqQw5E4JzTy"
      },
      "execution_count": 20,
      "outputs": []
    },
    {
      "cell_type": "code",
      "source": [
        "df.head()"
      ],
      "metadata": {
        "colab": {
          "base_uri": "https://localhost:8080/",
          "height": 237
        },
        "id": "88i0dIKIJz1_",
        "outputId": "f05772a8-4f1a-4b21-9c90-e07ac364cd53"
      },
      "execution_count": 21,
      "outputs": [
        {
          "output_type": "execute_result",
          "data": {
            "text/plain": [
              "    label                                              tweet\n",
              "id                                                          \n",
              "1       0  #fingerprint #Pregnancy Test https://goo.gl/h1...\n",
              "2       0  Finally a transparant silicon case ^^ Thanks t...\n",
              "3       0  We love this! Would you go? #talk #makememorie...\n",
              "4       0  I'm wired I know I'm George I was made that wa...\n",
              "5       1  What amazing service! Apple won't even talk to..."
            ],
            "text/html": [
              "\n",
              "  <div id=\"df-51a7f729-faa9-4689-8521-d33f206e2730\" class=\"colab-df-container\">\n",
              "    <div>\n",
              "<style scoped>\n",
              "    .dataframe tbody tr th:only-of-type {\n",
              "        vertical-align: middle;\n",
              "    }\n",
              "\n",
              "    .dataframe tbody tr th {\n",
              "        vertical-align: top;\n",
              "    }\n",
              "\n",
              "    .dataframe thead th {\n",
              "        text-align: right;\n",
              "    }\n",
              "</style>\n",
              "<table border=\"1\" class=\"dataframe\">\n",
              "  <thead>\n",
              "    <tr style=\"text-align: right;\">\n",
              "      <th></th>\n",
              "      <th>label</th>\n",
              "      <th>tweet</th>\n",
              "    </tr>\n",
              "    <tr>\n",
              "      <th>id</th>\n",
              "      <th></th>\n",
              "      <th></th>\n",
              "    </tr>\n",
              "  </thead>\n",
              "  <tbody>\n",
              "    <tr>\n",
              "      <th>1</th>\n",
              "      <td>0</td>\n",
              "      <td>#fingerprint #Pregnancy Test https://goo.gl/h1...</td>\n",
              "    </tr>\n",
              "    <tr>\n",
              "      <th>2</th>\n",
              "      <td>0</td>\n",
              "      <td>Finally a transparant silicon case ^^ Thanks t...</td>\n",
              "    </tr>\n",
              "    <tr>\n",
              "      <th>3</th>\n",
              "      <td>0</td>\n",
              "      <td>We love this! Would you go? #talk #makememorie...</td>\n",
              "    </tr>\n",
              "    <tr>\n",
              "      <th>4</th>\n",
              "      <td>0</td>\n",
              "      <td>I'm wired I know I'm George I was made that wa...</td>\n",
              "    </tr>\n",
              "    <tr>\n",
              "      <th>5</th>\n",
              "      <td>1</td>\n",
              "      <td>What amazing service! Apple won't even talk to...</td>\n",
              "    </tr>\n",
              "  </tbody>\n",
              "</table>\n",
              "</div>\n",
              "    <div class=\"colab-df-buttons\">\n",
              "\n",
              "  <div class=\"colab-df-container\">\n",
              "    <button class=\"colab-df-convert\" onclick=\"convertToInteractive('df-51a7f729-faa9-4689-8521-d33f206e2730')\"\n",
              "            title=\"Convert this dataframe to an interactive table.\"\n",
              "            style=\"display:none;\">\n",
              "\n",
              "  <svg xmlns=\"http://www.w3.org/2000/svg\" height=\"24px\" viewBox=\"0 -960 960 960\">\n",
              "    <path d=\"M120-120v-720h720v720H120Zm60-500h600v-160H180v160Zm220 220h160v-160H400v160Zm0 220h160v-160H400v160ZM180-400h160v-160H180v160Zm440 0h160v-160H620v160ZM180-180h160v-160H180v160Zm440 0h160v-160H620v160Z\"/>\n",
              "  </svg>\n",
              "    </button>\n",
              "\n",
              "  <style>\n",
              "    .colab-df-container {\n",
              "      display:flex;\n",
              "      gap: 12px;\n",
              "    }\n",
              "\n",
              "    .colab-df-convert {\n",
              "      background-color: #E8F0FE;\n",
              "      border: none;\n",
              "      border-radius: 50%;\n",
              "      cursor: pointer;\n",
              "      display: none;\n",
              "      fill: #1967D2;\n",
              "      height: 32px;\n",
              "      padding: 0 0 0 0;\n",
              "      width: 32px;\n",
              "    }\n",
              "\n",
              "    .colab-df-convert:hover {\n",
              "      background-color: #E2EBFA;\n",
              "      box-shadow: 0px 1px 2px rgba(60, 64, 67, 0.3), 0px 1px 3px 1px rgba(60, 64, 67, 0.15);\n",
              "      fill: #174EA6;\n",
              "    }\n",
              "\n",
              "    .colab-df-buttons div {\n",
              "      margin-bottom: 4px;\n",
              "    }\n",
              "\n",
              "    [theme=dark] .colab-df-convert {\n",
              "      background-color: #3B4455;\n",
              "      fill: #D2E3FC;\n",
              "    }\n",
              "\n",
              "    [theme=dark] .colab-df-convert:hover {\n",
              "      background-color: #434B5C;\n",
              "      box-shadow: 0px 1px 3px 1px rgba(0, 0, 0, 0.15);\n",
              "      filter: drop-shadow(0px 1px 2px rgba(0, 0, 0, 0.3));\n",
              "      fill: #FFFFFF;\n",
              "    }\n",
              "  </style>\n",
              "\n",
              "    <script>\n",
              "      const buttonEl =\n",
              "        document.querySelector('#df-51a7f729-faa9-4689-8521-d33f206e2730 button.colab-df-convert');\n",
              "      buttonEl.style.display =\n",
              "        google.colab.kernel.accessAllowed ? 'block' : 'none';\n",
              "\n",
              "      async function convertToInteractive(key) {\n",
              "        const element = document.querySelector('#df-51a7f729-faa9-4689-8521-d33f206e2730');\n",
              "        const dataTable =\n",
              "          await google.colab.kernel.invokeFunction('convertToInteractive',\n",
              "                                                    [key], {});\n",
              "        if (!dataTable) return;\n",
              "\n",
              "        const docLinkHtml = 'Like what you see? Visit the ' +\n",
              "          '<a target=\"_blank\" href=https://colab.research.google.com/notebooks/data_table.ipynb>data table notebook</a>'\n",
              "          + ' to learn more about interactive tables.';\n",
              "        element.innerHTML = '';\n",
              "        dataTable['output_type'] = 'display_data';\n",
              "        await google.colab.output.renderOutput(dataTable, element);\n",
              "        const docLink = document.createElement('div');\n",
              "        docLink.innerHTML = docLinkHtml;\n",
              "        element.appendChild(docLink);\n",
              "      }\n",
              "    </script>\n",
              "  </div>\n",
              "\n",
              "\n",
              "<div id=\"df-dec90820-5973-4777-83cf-3f0dadfe03e1\">\n",
              "  <button class=\"colab-df-quickchart\" onclick=\"quickchart('df-dec90820-5973-4777-83cf-3f0dadfe03e1')\"\n",
              "            title=\"Suggest charts\"\n",
              "            style=\"display:none;\">\n",
              "\n",
              "<svg xmlns=\"http://www.w3.org/2000/svg\" height=\"24px\"viewBox=\"0 0 24 24\"\n",
              "     width=\"24px\">\n",
              "    <g>\n",
              "        <path d=\"M19 3H5c-1.1 0-2 .9-2 2v14c0 1.1.9 2 2 2h14c1.1 0 2-.9 2-2V5c0-1.1-.9-2-2-2zM9 17H7v-7h2v7zm4 0h-2V7h2v10zm4 0h-2v-4h2v4z\"/>\n",
              "    </g>\n",
              "</svg>\n",
              "  </button>\n",
              "\n",
              "<style>\n",
              "  .colab-df-quickchart {\n",
              "      --bg-color: #E8F0FE;\n",
              "      --fill-color: #1967D2;\n",
              "      --hover-bg-color: #E2EBFA;\n",
              "      --hover-fill-color: #174EA6;\n",
              "      --disabled-fill-color: #AAA;\n",
              "      --disabled-bg-color: #DDD;\n",
              "  }\n",
              "\n",
              "  [theme=dark] .colab-df-quickchart {\n",
              "      --bg-color: #3B4455;\n",
              "      --fill-color: #D2E3FC;\n",
              "      --hover-bg-color: #434B5C;\n",
              "      --hover-fill-color: #FFFFFF;\n",
              "      --disabled-bg-color: #3B4455;\n",
              "      --disabled-fill-color: #666;\n",
              "  }\n",
              "\n",
              "  .colab-df-quickchart {\n",
              "    background-color: var(--bg-color);\n",
              "    border: none;\n",
              "    border-radius: 50%;\n",
              "    cursor: pointer;\n",
              "    display: none;\n",
              "    fill: var(--fill-color);\n",
              "    height: 32px;\n",
              "    padding: 0;\n",
              "    width: 32px;\n",
              "  }\n",
              "\n",
              "  .colab-df-quickchart:hover {\n",
              "    background-color: var(--hover-bg-color);\n",
              "    box-shadow: 0 1px 2px rgba(60, 64, 67, 0.3), 0 1px 3px 1px rgba(60, 64, 67, 0.15);\n",
              "    fill: var(--button-hover-fill-color);\n",
              "  }\n",
              "\n",
              "  .colab-df-quickchart-complete:disabled,\n",
              "  .colab-df-quickchart-complete:disabled:hover {\n",
              "    background-color: var(--disabled-bg-color);\n",
              "    fill: var(--disabled-fill-color);\n",
              "    box-shadow: none;\n",
              "  }\n",
              "\n",
              "  .colab-df-spinner {\n",
              "    border: 2px solid var(--fill-color);\n",
              "    border-color: transparent;\n",
              "    border-bottom-color: var(--fill-color);\n",
              "    animation:\n",
              "      spin 1s steps(1) infinite;\n",
              "  }\n",
              "\n",
              "  @keyframes spin {\n",
              "    0% {\n",
              "      border-color: transparent;\n",
              "      border-bottom-color: var(--fill-color);\n",
              "      border-left-color: var(--fill-color);\n",
              "    }\n",
              "    20% {\n",
              "      border-color: transparent;\n",
              "      border-left-color: var(--fill-color);\n",
              "      border-top-color: var(--fill-color);\n",
              "    }\n",
              "    30% {\n",
              "      border-color: transparent;\n",
              "      border-left-color: var(--fill-color);\n",
              "      border-top-color: var(--fill-color);\n",
              "      border-right-color: var(--fill-color);\n",
              "    }\n",
              "    40% {\n",
              "      border-color: transparent;\n",
              "      border-right-color: var(--fill-color);\n",
              "      border-top-color: var(--fill-color);\n",
              "    }\n",
              "    60% {\n",
              "      border-color: transparent;\n",
              "      border-right-color: var(--fill-color);\n",
              "    }\n",
              "    80% {\n",
              "      border-color: transparent;\n",
              "      border-right-color: var(--fill-color);\n",
              "      border-bottom-color: var(--fill-color);\n",
              "    }\n",
              "    90% {\n",
              "      border-color: transparent;\n",
              "      border-bottom-color: var(--fill-color);\n",
              "    }\n",
              "  }\n",
              "</style>\n",
              "\n",
              "  <script>\n",
              "    async function quickchart(key) {\n",
              "      const quickchartButtonEl =\n",
              "        document.querySelector('#' + key + ' button');\n",
              "      quickchartButtonEl.disabled = true;  // To prevent multiple clicks.\n",
              "      quickchartButtonEl.classList.add('colab-df-spinner');\n",
              "      try {\n",
              "        const charts = await google.colab.kernel.invokeFunction(\n",
              "            'suggestCharts', [key], {});\n",
              "      } catch (error) {\n",
              "        console.error('Error during call to suggestCharts:', error);\n",
              "      }\n",
              "      quickchartButtonEl.classList.remove('colab-df-spinner');\n",
              "      quickchartButtonEl.classList.add('colab-df-quickchart-complete');\n",
              "    }\n",
              "    (() => {\n",
              "      let quickchartButtonEl =\n",
              "        document.querySelector('#df-dec90820-5973-4777-83cf-3f0dadfe03e1 button');\n",
              "      quickchartButtonEl.style.display =\n",
              "        google.colab.kernel.accessAllowed ? 'block' : 'none';\n",
              "    })();\n",
              "  </script>\n",
              "</div>\n",
              "\n",
              "    </div>\n",
              "  </div>\n"
            ],
            "application/vnd.google.colaboratory.intrinsic+json": {
              "type": "dataframe",
              "variable_name": "df",
              "summary": "{\n  \"name\": \"df\",\n  \"rows\": 7920,\n  \"fields\": [\n    {\n      \"column\": \"id\",\n      \"properties\": {\n        \"dtype\": \"number\",\n        \"std\": 2286,\n        \"min\": 1,\n        \"max\": 7920,\n        \"num_unique_values\": 7920,\n        \"samples\": [\n          4897,\n          7540,\n          1678\n        ],\n        \"semantic_type\": \"\",\n        \"description\": \"\"\n      }\n    },\n    {\n      \"column\": \"label\",\n      \"properties\": {\n        \"dtype\": \"number\",\n        \"std\": 0,\n        \"min\": 0,\n        \"max\": 1,\n        \"num_unique_values\": 2,\n        \"samples\": [\n          1,\n          0\n        ],\n        \"semantic_type\": \"\",\n        \"description\": \"\"\n      }\n    },\n    {\n      \"column\": \"tweet\",\n      \"properties\": {\n        \"dtype\": \"string\",\n        \"num_unique_values\": 7918,\n        \"samples\": [\n          \"My face as dad gave me cards worth \\u00a320, 000.00 #gay #shopping #boy #macbook #apple #blonde #pickofthe http://instagr.am/p/Uo5Ue7H7A8/\",\n          \"@skullcandy your product is brutal, 1 headphone always stops working. Get it together #Sony ftw\"\n        ],\n        \"semantic_type\": \"\",\n        \"description\": \"\"\n      }\n    }\n  ]\n}"
            }
          },
          "metadata": {},
          "execution_count": 21
        }
      ]
    },
    {
      "cell_type": "markdown",
      "source": [
        "## 3. Tiền xử lý bộ dữ liệu"
      ],
      "metadata": {
        "id": "5_ZI-5BJKUBP"
      }
    },
    {
      "cell_type": "markdown",
      "source": [
        "Xây dựng hàm chuẩn hóa văn bản"
      ],
      "metadata": {
        "id": "HSbNd_XiKb-e"
      }
    },
    {
      "cell_type": "code",
      "source": [
        "def text_normalize(text):\n",
        "    # Retweet old acronym \"RT\" removal\n",
        "    text = re.sub(r'^RT[\\s]+', '', text)\n",
        "    # Hyperlinks removal\n",
        "    text = re.sub(r'https?:\\/\\/.*[\\r\\n]*', '', text)\n",
        "    # Hashtags removal\n",
        "    text = re.sub(r'#', '', text)\n",
        "    # Punctuation removal\n",
        "    text = re.sub(r'[^\\w\\s]+', '', text)\n",
        "\n",
        "    # Tokenization\n",
        "    tokenizer = TweetTokenizer(preserve_case=False, strip_handles=True, reduce_len=True)\n",
        "    text_tokens = tokenizer.tokenize(text)\n",
        "\n",
        "    return text_tokens"
      ],
      "metadata": {
        "id": "JC3ReokEKJ0F"
      },
      "execution_count": 26,
      "outputs": []
    },
    {
      "cell_type": "markdown",
      "source": [
        "Xây dựng bộ lưu giữ tần suất xuất hiện của các từ"
      ],
      "metadata": {
        "id": "Cs55n5lsMf30"
      }
    },
    {
      "cell_type": "code",
      "source": [
        "def get_freqs(df):\n",
        "    freqs = defaultdict(lambda: 0)\n",
        "    for idx, row in df.iterrows():\n",
        "      tweet = row['tweet']\n",
        "      label = row['label']\n",
        "\n",
        "      tokens = text_normalize(tweet)\n",
        "      for token in tokens:\n",
        "        pair = (token, label)\n",
        "        freqs[pair] += 1\n",
        "    return freqs"
      ],
      "metadata": {
        "id": "zGo1roU4MVbh"
      },
      "execution_count": 27,
      "outputs": []
    },
    {
      "cell_type": "markdown",
      "source": [
        "Xây dựng hàm tạo vector đặc trưng"
      ],
      "metadata": {
        "id": "JV-bB8ftNz27"
      }
    },
    {
      "cell_type": "code",
      "source": [
        "def get_feature(text, freqs):\n",
        "  tokens = text_normalize(text)\n",
        "\n",
        "  X = np.zeros(3)\n",
        "  X[0] = 1\n",
        "  for token in tokens:\n",
        "    X[1] += freqs[(token, 0)]\n",
        "    X[2] += freqs[(token, 1)]\n",
        "\n",
        "  return X"
      ],
      "metadata": {
        "id": "kzwTAi2UNen5"
      },
      "execution_count": 29,
      "outputs": []
    },
    {
      "cell_type": "markdown",
      "source": [
        "Trích xuất đặc trưng toàn bộ dữ liệu"
      ],
      "metadata": {
        "id": "NhXBigfiOvNh"
      }
    },
    {
      "cell_type": "code",
      "source": [
        "X = []\n",
        "y = []\n",
        "freqs = get_freqs(df)\n",
        "for idx, row in df.iterrows():\n",
        "  tweet = row['tweet']\n",
        "  label = row['label']\n",
        "\n",
        "  X_i = get_feature(tweet, freqs)\n",
        "  X.append(X_i)\n",
        "  y.append(label)\n",
        "\n",
        "X = np.array(X)\n",
        "y = np.array(y)"
      ],
      "metadata": {
        "id": "DbzV1k4fOzbH"
      },
      "execution_count": 30,
      "outputs": []
    },
    {
      "cell_type": "markdown",
      "source": [
        "## 4. Chia bộ train, val, test"
      ],
      "metadata": {
        "id": "B7SDb1bmP-Q7"
      }
    },
    {
      "cell_type": "code",
      "source": [
        "val_size = 0.2\n",
        "test_size = 0.125\n",
        "random_state = 2\n",
        "is_shuffle = True\n",
        "\n",
        "X_train, X_val, y_train, y_val = train_test_split(X, y, test_size = val_size, random_state = random_state, shuffle = is_shuffle)\n",
        "X_train, X_test, y_train, y_test = train_test_split(X_train, y_train, test_size = test_size, random_state = random_state, shuffle = is_shuffle)"
      ],
      "metadata": {
        "id": "FUUVe2qvPAGL"
      },
      "execution_count": 31,
      "outputs": []
    },
    {
      "cell_type": "markdown",
      "source": [
        "## 5. Chuẩn hóa dữ liệu"
      ],
      "metadata": {
        "id": "7GwdS9bSQWFU"
      }
    },
    {
      "cell_type": "code",
      "source": [
        "normalizer = StandardScaler()\n",
        "X_train[:, 1:] = normalizer.fit_transform(X_train[:, 1:])\n",
        "X_val[:, 1:] = normalizer.transform(X_val[:, 1:])\n",
        "X_test[:, 1:] = normalizer.transform(X_test[:, 1:])"
      ],
      "metadata": {
        "id": "8dA3FkiWQVHf"
      },
      "execution_count": 32,
      "outputs": []
    },
    {
      "cell_type": "markdown",
      "source": [
        "## 6. Cài đặt các hàm quan trọng"
      ],
      "metadata": {
        "id": "1umJLbDaQrH6"
      }
    },
    {
      "cell_type": "code",
      "source": [
        "def sigmoid(z):\n",
        "    return 1 / (1 + np.exp(-z))\n",
        "def predict(X, theta):\n",
        "    dot_product = np.dot(X, theta)\n",
        "    y_hat = sigmoid(dot_product)\n",
        "\n",
        "    return y_hat\n",
        "def compute_loss(y_hat, y):\n",
        "  y_hat = np.clip(y_hat, 1e-7, 1 - 1e-7)\n",
        "  return (-y * np.log(y_hat) - (1 - y) * np.log(1 - y_hat)).mean()\n",
        "def compute_gradient(X, y, y_hat):\n",
        "  return np.dot(X.T, (y_hat - y)) / y.size\n",
        "def update_theta(theta, gradient, lr):\n",
        "  return theta - lr * gradient\n",
        "def compute_accuracy(X, y, theta):\n",
        "  y_hat = predict(X, theta).round()\n",
        "  acc = (y_hat == y).mean()\n",
        "\n",
        "  return acc"
      ],
      "metadata": {
        "id": "c8tCuIbZQpBD"
      },
      "execution_count": 33,
      "outputs": []
    },
    {
      "cell_type": "markdown",
      "source": [
        "## 7. Khai báo các siêu tham số và khởi tạo weights"
      ],
      "metadata": {
        "id": "rdfA6ECuRP3u"
      }
    },
    {
      "cell_type": "code",
      "source": [
        "lr = 0.01\n",
        "epochs = 200\n",
        "batch_size = 128\n",
        "\n",
        "np.random.seed(random_state)\n",
        "theta = np.random.uniform(size = X_train.shape[1])"
      ],
      "metadata": {
        "id": "_unmvDJaRO_N"
      },
      "execution_count": 34,
      "outputs": []
    },
    {
      "cell_type": "markdown",
      "source": [
        "## 8. Huấn luyện mô hình"
      ],
      "metadata": {
        "id": "aEG7nGjhRerX"
      }
    },
    {
      "cell_type": "code",
      "source": [
        "train_accs = []\n",
        "train_losses = []\n",
        "val_accs = []\n",
        "val_losses = []\n",
        "\n",
        "for epoch in range(epochs):\n",
        "    train_batch_losses = []\n",
        "    train_batch_accs = []\n",
        "    val_batch_losses = []\n",
        "    val_batch_accs = []\n",
        "\n",
        "    for i in range(0, X_train.shape[0], batch_size):\n",
        "        X_i = X_train[i:i+batch_size]\n",
        "        y_i = y_train[i:i+batch_size]\n",
        "\n",
        "        y_hat = predict(X_i, theta)\n",
        "\n",
        "        train_loss = compute_loss(y_hat, y_i)\n",
        "\n",
        "        gradient = compute_gradient(X_i, y_i, y_hat)\n",
        "\n",
        "        theta = update_theta(theta, gradient, lr)\n",
        "\n",
        "\n",
        "        train_batch_losses.append(train_loss)\n",
        "        train_acc = compute_accuracy(X_train, y_train, theta)\n",
        "        train_batch_accs.append(train_acc)\n",
        "\n",
        "        y_val_hat = predict(X_val, theta)\n",
        "        val_loss = compute_loss(y_val_hat, y_val)\n",
        "        val_batch_losses.append(val_loss)\n",
        "\n",
        "        val_acc = compute_accuracy(X_val, y_val, theta)\n",
        "        val_batch_accs.append(val_acc)\n",
        "\n",
        "    train_batch_loss = sum(train_batch_losses)/len(train_batch_losses)\n",
        "    val_batch_loss = sum(val_batch_losses)/len(val_batch_losses)\n",
        "    train_batch_acc = sum(train_batch_accs)/len(train_batch_accs)\n",
        "    val_batch_acc = sum(val_batch_accs)/len(val_batch_accs)\n",
        "\n",
        "    train_losses.append(train_batch_loss)\n",
        "    val_losses.append(val_batch_loss)\n",
        "    train_accs.append(train_batch_acc)\n",
        "    val_accs.append(val_batch_acc)\n",
        "    print(f'\\nEPOCH {epoch + 1}:\\tTraining loss: {train_batch_loss:.3f}\\tValidation loss: {val_batch_loss:.3f}')\n"
      ],
      "metadata": {
        "colab": {
          "base_uri": "https://localhost:8080/"
        },
        "id": "rx-6JZvDRd3n",
        "outputId": "148d136f-2da0-42b5-9819-57a97532bc5a"
      },
      "execution_count": 35,
      "outputs": [
        {
          "output_type": "stream",
          "name": "stdout",
          "text": [
            "\n",
            "EPOCH 1:\tTraining loss: 0.707\tValidation loss: 0.704\n",
            "\n",
            "EPOCH 2:\tTraining loss: 0.661\tValidation loss: 0.659\n",
            "\n",
            "EPOCH 3:\tTraining loss: 0.624\tValidation loss: 0.622\n",
            "\n",
            "EPOCH 4:\tTraining loss: 0.594\tValidation loss: 0.591\n",
            "\n",
            "EPOCH 5:\tTraining loss: 0.569\tValidation loss: 0.566\n",
            "\n",
            "EPOCH 6:\tTraining loss: 0.548\tValidation loss: 0.546\n",
            "\n",
            "EPOCH 7:\tTraining loss: 0.531\tValidation loss: 0.528\n",
            "\n",
            "EPOCH 8:\tTraining loss: 0.516\tValidation loss: 0.514\n",
            "\n",
            "EPOCH 9:\tTraining loss: 0.504\tValidation loss: 0.502\n",
            "\n",
            "EPOCH 10:\tTraining loss: 0.494\tValidation loss: 0.491\n",
            "\n",
            "EPOCH 11:\tTraining loss: 0.485\tValidation loss: 0.483\n",
            "\n",
            "EPOCH 12:\tTraining loss: 0.477\tValidation loss: 0.475\n",
            "\n",
            "EPOCH 13:\tTraining loss: 0.471\tValidation loss: 0.468\n",
            "\n",
            "EPOCH 14:\tTraining loss: 0.465\tValidation loss: 0.463\n",
            "\n",
            "EPOCH 15:\tTraining loss: 0.460\tValidation loss: 0.457\n",
            "\n",
            "EPOCH 16:\tTraining loss: 0.456\tValidation loss: 0.453\n",
            "\n",
            "EPOCH 17:\tTraining loss: 0.452\tValidation loss: 0.449\n",
            "\n",
            "EPOCH 18:\tTraining loss: 0.448\tValidation loss: 0.445\n",
            "\n",
            "EPOCH 19:\tTraining loss: 0.445\tValidation loss: 0.442\n",
            "\n",
            "EPOCH 20:\tTraining loss: 0.442\tValidation loss: 0.439\n",
            "\n",
            "EPOCH 21:\tTraining loss: 0.440\tValidation loss: 0.437\n",
            "\n",
            "EPOCH 22:\tTraining loss: 0.437\tValidation loss: 0.434\n",
            "\n",
            "EPOCH 23:\tTraining loss: 0.435\tValidation loss: 0.432\n",
            "\n",
            "EPOCH 24:\tTraining loss: 0.433\tValidation loss: 0.430\n",
            "\n",
            "EPOCH 25:\tTraining loss: 0.431\tValidation loss: 0.428\n",
            "\n",
            "EPOCH 26:\tTraining loss: 0.430\tValidation loss: 0.426\n",
            "\n",
            "EPOCH 27:\tTraining loss: 0.428\tValidation loss: 0.425\n",
            "\n",
            "EPOCH 28:\tTraining loss: 0.427\tValidation loss: 0.423\n",
            "\n",
            "EPOCH 29:\tTraining loss: 0.425\tValidation loss: 0.422\n",
            "\n",
            "EPOCH 30:\tTraining loss: 0.424\tValidation loss: 0.420\n",
            "\n",
            "EPOCH 31:\tTraining loss: 0.423\tValidation loss: 0.419\n",
            "\n",
            "EPOCH 32:\tTraining loss: 0.421\tValidation loss: 0.418\n",
            "\n",
            "EPOCH 33:\tTraining loss: 0.420\tValidation loss: 0.417\n",
            "\n",
            "EPOCH 34:\tTraining loss: 0.419\tValidation loss: 0.416\n",
            "\n",
            "EPOCH 35:\tTraining loss: 0.418\tValidation loss: 0.415\n",
            "\n",
            "EPOCH 36:\tTraining loss: 0.417\tValidation loss: 0.414\n",
            "\n",
            "EPOCH 37:\tTraining loss: 0.416\tValidation loss: 0.413\n",
            "\n",
            "EPOCH 38:\tTraining loss: 0.415\tValidation loss: 0.412\n",
            "\n",
            "EPOCH 39:\tTraining loss: 0.414\tValidation loss: 0.411\n",
            "\n",
            "EPOCH 40:\tTraining loss: 0.414\tValidation loss: 0.410\n",
            "\n",
            "EPOCH 41:\tTraining loss: 0.413\tValidation loss: 0.409\n",
            "\n",
            "EPOCH 42:\tTraining loss: 0.412\tValidation loss: 0.408\n",
            "\n",
            "EPOCH 43:\tTraining loss: 0.411\tValidation loss: 0.408\n",
            "\n",
            "EPOCH 44:\tTraining loss: 0.411\tValidation loss: 0.407\n",
            "\n",
            "EPOCH 45:\tTraining loss: 0.410\tValidation loss: 0.406\n",
            "\n",
            "EPOCH 46:\tTraining loss: 0.409\tValidation loss: 0.405\n",
            "\n",
            "EPOCH 47:\tTraining loss: 0.409\tValidation loss: 0.405\n",
            "\n",
            "EPOCH 48:\tTraining loss: 0.408\tValidation loss: 0.404\n",
            "\n",
            "EPOCH 49:\tTraining loss: 0.407\tValidation loss: 0.403\n",
            "\n",
            "EPOCH 50:\tTraining loss: 0.407\tValidation loss: 0.403\n",
            "\n",
            "EPOCH 51:\tTraining loss: 0.406\tValidation loss: 0.402\n",
            "\n",
            "EPOCH 52:\tTraining loss: 0.406\tValidation loss: 0.402\n",
            "\n",
            "EPOCH 53:\tTraining loss: 0.405\tValidation loss: 0.401\n",
            "\n",
            "EPOCH 54:\tTraining loss: 0.404\tValidation loss: 0.400\n",
            "\n",
            "EPOCH 55:\tTraining loss: 0.404\tValidation loss: 0.400\n",
            "\n",
            "EPOCH 56:\tTraining loss: 0.403\tValidation loss: 0.399\n",
            "\n",
            "EPOCH 57:\tTraining loss: 0.403\tValidation loss: 0.399\n",
            "\n",
            "EPOCH 58:\tTraining loss: 0.402\tValidation loss: 0.398\n",
            "\n",
            "EPOCH 59:\tTraining loss: 0.402\tValidation loss: 0.398\n",
            "\n",
            "EPOCH 60:\tTraining loss: 0.401\tValidation loss: 0.397\n",
            "\n",
            "EPOCH 61:\tTraining loss: 0.401\tValidation loss: 0.397\n",
            "\n",
            "EPOCH 62:\tTraining loss: 0.401\tValidation loss: 0.396\n",
            "\n",
            "EPOCH 63:\tTraining loss: 0.400\tValidation loss: 0.396\n",
            "\n",
            "EPOCH 64:\tTraining loss: 0.400\tValidation loss: 0.396\n",
            "\n",
            "EPOCH 65:\tTraining loss: 0.399\tValidation loss: 0.395\n",
            "\n",
            "EPOCH 66:\tTraining loss: 0.399\tValidation loss: 0.395\n",
            "\n",
            "EPOCH 67:\tTraining loss: 0.399\tValidation loss: 0.394\n",
            "\n",
            "EPOCH 68:\tTraining loss: 0.398\tValidation loss: 0.394\n",
            "\n",
            "EPOCH 69:\tTraining loss: 0.398\tValidation loss: 0.394\n",
            "\n",
            "EPOCH 70:\tTraining loss: 0.397\tValidation loss: 0.393\n",
            "\n",
            "EPOCH 71:\tTraining loss: 0.397\tValidation loss: 0.393\n",
            "\n",
            "EPOCH 72:\tTraining loss: 0.397\tValidation loss: 0.392\n",
            "\n",
            "EPOCH 73:\tTraining loss: 0.396\tValidation loss: 0.392\n",
            "\n",
            "EPOCH 74:\tTraining loss: 0.396\tValidation loss: 0.392\n",
            "\n",
            "EPOCH 75:\tTraining loss: 0.396\tValidation loss: 0.391\n",
            "\n",
            "EPOCH 76:\tTraining loss: 0.395\tValidation loss: 0.391\n",
            "\n",
            "EPOCH 77:\tTraining loss: 0.395\tValidation loss: 0.391\n",
            "\n",
            "EPOCH 78:\tTraining loss: 0.395\tValidation loss: 0.390\n",
            "\n",
            "EPOCH 79:\tTraining loss: 0.394\tValidation loss: 0.390\n",
            "\n",
            "EPOCH 80:\tTraining loss: 0.394\tValidation loss: 0.390\n",
            "\n",
            "EPOCH 81:\tTraining loss: 0.394\tValidation loss: 0.389\n",
            "\n",
            "EPOCH 82:\tTraining loss: 0.394\tValidation loss: 0.389\n",
            "\n",
            "EPOCH 83:\tTraining loss: 0.393\tValidation loss: 0.389\n",
            "\n",
            "EPOCH 84:\tTraining loss: 0.393\tValidation loss: 0.389\n",
            "\n",
            "EPOCH 85:\tTraining loss: 0.393\tValidation loss: 0.388\n",
            "\n",
            "EPOCH 86:\tTraining loss: 0.392\tValidation loss: 0.388\n",
            "\n",
            "EPOCH 87:\tTraining loss: 0.392\tValidation loss: 0.388\n",
            "\n",
            "EPOCH 88:\tTraining loss: 0.392\tValidation loss: 0.388\n",
            "\n",
            "EPOCH 89:\tTraining loss: 0.392\tValidation loss: 0.387\n",
            "\n",
            "EPOCH 90:\tTraining loss: 0.391\tValidation loss: 0.387\n",
            "\n",
            "EPOCH 91:\tTraining loss: 0.391\tValidation loss: 0.387\n",
            "\n",
            "EPOCH 92:\tTraining loss: 0.391\tValidation loss: 0.387\n",
            "\n",
            "EPOCH 93:\tTraining loss: 0.391\tValidation loss: 0.386\n",
            "\n",
            "EPOCH 94:\tTraining loss: 0.391\tValidation loss: 0.386\n",
            "\n",
            "EPOCH 95:\tTraining loss: 0.390\tValidation loss: 0.386\n",
            "\n",
            "EPOCH 96:\tTraining loss: 0.390\tValidation loss: 0.386\n",
            "\n",
            "EPOCH 97:\tTraining loss: 0.390\tValidation loss: 0.385\n",
            "\n",
            "EPOCH 98:\tTraining loss: 0.390\tValidation loss: 0.385\n",
            "\n",
            "EPOCH 99:\tTraining loss: 0.390\tValidation loss: 0.385\n",
            "\n",
            "EPOCH 100:\tTraining loss: 0.389\tValidation loss: 0.385\n",
            "\n",
            "EPOCH 101:\tTraining loss: 0.389\tValidation loss: 0.385\n",
            "\n",
            "EPOCH 102:\tTraining loss: 0.389\tValidation loss: 0.384\n",
            "\n",
            "EPOCH 103:\tTraining loss: 0.389\tValidation loss: 0.384\n",
            "\n",
            "EPOCH 104:\tTraining loss: 0.389\tValidation loss: 0.384\n",
            "\n",
            "EPOCH 105:\tTraining loss: 0.388\tValidation loss: 0.384\n",
            "\n",
            "EPOCH 106:\tTraining loss: 0.388\tValidation loss: 0.384\n",
            "\n",
            "EPOCH 107:\tTraining loss: 0.388\tValidation loss: 0.383\n",
            "\n",
            "EPOCH 108:\tTraining loss: 0.388\tValidation loss: 0.383\n",
            "\n",
            "EPOCH 109:\tTraining loss: 0.388\tValidation loss: 0.383\n",
            "\n",
            "EPOCH 110:\tTraining loss: 0.388\tValidation loss: 0.383\n",
            "\n",
            "EPOCH 111:\tTraining loss: 0.387\tValidation loss: 0.383\n",
            "\n",
            "EPOCH 112:\tTraining loss: 0.387\tValidation loss: 0.382\n",
            "\n",
            "EPOCH 113:\tTraining loss: 0.387\tValidation loss: 0.382\n",
            "\n",
            "EPOCH 114:\tTraining loss: 0.387\tValidation loss: 0.382\n",
            "\n",
            "EPOCH 115:\tTraining loss: 0.387\tValidation loss: 0.382\n",
            "\n",
            "EPOCH 116:\tTraining loss: 0.387\tValidation loss: 0.382\n",
            "\n",
            "EPOCH 117:\tTraining loss: 0.386\tValidation loss: 0.382\n",
            "\n",
            "EPOCH 118:\tTraining loss: 0.386\tValidation loss: 0.382\n",
            "\n",
            "EPOCH 119:\tTraining loss: 0.386\tValidation loss: 0.381\n",
            "\n",
            "EPOCH 120:\tTraining loss: 0.386\tValidation loss: 0.381\n",
            "\n",
            "EPOCH 121:\tTraining loss: 0.386\tValidation loss: 0.381\n",
            "\n",
            "EPOCH 122:\tTraining loss: 0.386\tValidation loss: 0.381\n",
            "\n",
            "EPOCH 123:\tTraining loss: 0.386\tValidation loss: 0.381\n",
            "\n",
            "EPOCH 124:\tTraining loss: 0.386\tValidation loss: 0.381\n",
            "\n",
            "EPOCH 125:\tTraining loss: 0.385\tValidation loss: 0.380\n",
            "\n",
            "EPOCH 126:\tTraining loss: 0.385\tValidation loss: 0.380\n",
            "\n",
            "EPOCH 127:\tTraining loss: 0.385\tValidation loss: 0.380\n",
            "\n",
            "EPOCH 128:\tTraining loss: 0.385\tValidation loss: 0.380\n",
            "\n",
            "EPOCH 129:\tTraining loss: 0.385\tValidation loss: 0.380\n",
            "\n",
            "EPOCH 130:\tTraining loss: 0.385\tValidation loss: 0.380\n",
            "\n",
            "EPOCH 131:\tTraining loss: 0.385\tValidation loss: 0.380\n",
            "\n",
            "EPOCH 132:\tTraining loss: 0.385\tValidation loss: 0.380\n",
            "\n",
            "EPOCH 133:\tTraining loss: 0.384\tValidation loss: 0.379\n",
            "\n",
            "EPOCH 134:\tTraining loss: 0.384\tValidation loss: 0.379\n",
            "\n",
            "EPOCH 135:\tTraining loss: 0.384\tValidation loss: 0.379\n",
            "\n",
            "EPOCH 136:\tTraining loss: 0.384\tValidation loss: 0.379\n",
            "\n",
            "EPOCH 137:\tTraining loss: 0.384\tValidation loss: 0.379\n",
            "\n",
            "EPOCH 138:\tTraining loss: 0.384\tValidation loss: 0.379\n",
            "\n",
            "EPOCH 139:\tTraining loss: 0.384\tValidation loss: 0.379\n",
            "\n",
            "EPOCH 140:\tTraining loss: 0.384\tValidation loss: 0.379\n",
            "\n",
            "EPOCH 141:\tTraining loss: 0.384\tValidation loss: 0.379\n",
            "\n",
            "EPOCH 142:\tTraining loss: 0.384\tValidation loss: 0.378\n",
            "\n",
            "EPOCH 143:\tTraining loss: 0.383\tValidation loss: 0.378\n",
            "\n",
            "EPOCH 144:\tTraining loss: 0.383\tValidation loss: 0.378\n",
            "\n",
            "EPOCH 145:\tTraining loss: 0.383\tValidation loss: 0.378\n",
            "\n",
            "EPOCH 146:\tTraining loss: 0.383\tValidation loss: 0.378\n",
            "\n",
            "EPOCH 147:\tTraining loss: 0.383\tValidation loss: 0.378\n",
            "\n",
            "EPOCH 148:\tTraining loss: 0.383\tValidation loss: 0.378\n",
            "\n",
            "EPOCH 149:\tTraining loss: 0.383\tValidation loss: 0.378\n",
            "\n",
            "EPOCH 150:\tTraining loss: 0.383\tValidation loss: 0.378\n",
            "\n",
            "EPOCH 151:\tTraining loss: 0.383\tValidation loss: 0.378\n",
            "\n",
            "EPOCH 152:\tTraining loss: 0.383\tValidation loss: 0.378\n",
            "\n",
            "EPOCH 153:\tTraining loss: 0.383\tValidation loss: 0.377\n",
            "\n",
            "EPOCH 154:\tTraining loss: 0.383\tValidation loss: 0.377\n",
            "\n",
            "EPOCH 155:\tTraining loss: 0.382\tValidation loss: 0.377\n",
            "\n",
            "EPOCH 156:\tTraining loss: 0.382\tValidation loss: 0.377\n",
            "\n",
            "EPOCH 157:\tTraining loss: 0.382\tValidation loss: 0.377\n",
            "\n",
            "EPOCH 158:\tTraining loss: 0.382\tValidation loss: 0.377\n",
            "\n",
            "EPOCH 159:\tTraining loss: 0.382\tValidation loss: 0.377\n",
            "\n",
            "EPOCH 160:\tTraining loss: 0.382\tValidation loss: 0.377\n",
            "\n",
            "EPOCH 161:\tTraining loss: 0.382\tValidation loss: 0.377\n",
            "\n",
            "EPOCH 162:\tTraining loss: 0.382\tValidation loss: 0.377\n",
            "\n",
            "EPOCH 163:\tTraining loss: 0.382\tValidation loss: 0.377\n",
            "\n",
            "EPOCH 164:\tTraining loss: 0.382\tValidation loss: 0.377\n",
            "\n",
            "EPOCH 165:\tTraining loss: 0.382\tValidation loss: 0.376\n",
            "\n",
            "EPOCH 166:\tTraining loss: 0.382\tValidation loss: 0.376\n",
            "\n",
            "EPOCH 167:\tTraining loss: 0.382\tValidation loss: 0.376\n",
            "\n",
            "EPOCH 168:\tTraining loss: 0.382\tValidation loss: 0.376\n",
            "\n",
            "EPOCH 169:\tTraining loss: 0.381\tValidation loss: 0.376\n",
            "\n",
            "EPOCH 170:\tTraining loss: 0.381\tValidation loss: 0.376\n",
            "\n",
            "EPOCH 171:\tTraining loss: 0.381\tValidation loss: 0.376\n",
            "\n",
            "EPOCH 172:\tTraining loss: 0.381\tValidation loss: 0.376\n",
            "\n",
            "EPOCH 173:\tTraining loss: 0.381\tValidation loss: 0.376\n",
            "\n",
            "EPOCH 174:\tTraining loss: 0.381\tValidation loss: 0.376\n",
            "\n",
            "EPOCH 175:\tTraining loss: 0.381\tValidation loss: 0.376\n",
            "\n",
            "EPOCH 176:\tTraining loss: 0.381\tValidation loss: 0.376\n",
            "\n",
            "EPOCH 177:\tTraining loss: 0.381\tValidation loss: 0.376\n",
            "\n",
            "EPOCH 178:\tTraining loss: 0.381\tValidation loss: 0.376\n",
            "\n",
            "EPOCH 179:\tTraining loss: 0.381\tValidation loss: 0.375\n",
            "\n",
            "EPOCH 180:\tTraining loss: 0.381\tValidation loss: 0.375\n",
            "\n",
            "EPOCH 181:\tTraining loss: 0.381\tValidation loss: 0.375\n",
            "\n",
            "EPOCH 182:\tTraining loss: 0.381\tValidation loss: 0.375\n",
            "\n",
            "EPOCH 183:\tTraining loss: 0.381\tValidation loss: 0.375\n",
            "\n",
            "EPOCH 184:\tTraining loss: 0.381\tValidation loss: 0.375\n",
            "\n",
            "EPOCH 185:\tTraining loss: 0.381\tValidation loss: 0.375\n",
            "\n",
            "EPOCH 186:\tTraining loss: 0.381\tValidation loss: 0.375\n",
            "\n",
            "EPOCH 187:\tTraining loss: 0.381\tValidation loss: 0.375\n",
            "\n",
            "EPOCH 188:\tTraining loss: 0.380\tValidation loss: 0.375\n",
            "\n",
            "EPOCH 189:\tTraining loss: 0.380\tValidation loss: 0.375\n",
            "\n",
            "EPOCH 190:\tTraining loss: 0.380\tValidation loss: 0.375\n",
            "\n",
            "EPOCH 191:\tTraining loss: 0.380\tValidation loss: 0.375\n",
            "\n",
            "EPOCH 192:\tTraining loss: 0.380\tValidation loss: 0.375\n",
            "\n",
            "EPOCH 193:\tTraining loss: 0.380\tValidation loss: 0.375\n",
            "\n",
            "EPOCH 194:\tTraining loss: 0.380\tValidation loss: 0.375\n",
            "\n",
            "EPOCH 195:\tTraining loss: 0.380\tValidation loss: 0.375\n",
            "\n",
            "EPOCH 196:\tTraining loss: 0.380\tValidation loss: 0.375\n",
            "\n",
            "EPOCH 197:\tTraining loss: 0.380\tValidation loss: 0.375\n",
            "\n",
            "EPOCH 198:\tTraining loss: 0.380\tValidation loss: 0.374\n",
            "\n",
            "EPOCH 199:\tTraining loss: 0.380\tValidation loss: 0.374\n",
            "\n",
            "EPOCH 200:\tTraining loss: 0.380\tValidation loss: 0.374\n"
          ]
        }
      ]
    },
    {
      "cell_type": "code",
      "source": [
        "fig, ax = plt.subplots(2, 2, figsize=(12 , 10))\n",
        "ax[0, 0].plot(train_losses)\n",
        "ax[0, 0].set(xlabel='Epoch', ylabel='Loss')\n",
        "ax[0, 0].set_title('Training Loss')\n",
        "\n",
        "ax[0, 1].plot(val_losses, 'orange')\n",
        "ax[0, 1].set(xlabel='Epoch', ylabel='Loss')\n",
        "ax[0, 1].set_title('Validation Loss')\n",
        "\n",
        "ax[1, 0].plot(train_accs)\n",
        "ax[1, 0].set(xlabel='Epoch', ylabel='Accuracy')\n",
        "ax[1, 0].set_title('Training Accuracy')\n",
        "\n",
        "ax[1, 1].plot(val_accs, 'orange')\n",
        "ax[1, 1].set(xlabel='Epoch', ylabel='Accuracy')\n",
        "ax[1, 1].set_title('Validation Accuracy')\n",
        "\n",
        "plt.show()"
      ],
      "metadata": {
        "colab": {
          "base_uri": "https://localhost:8080/",
          "height": 872
        },
        "id": "rdmMZKV9R2Uw",
        "outputId": "f5a35f67-1e5c-4e06-9995-784ca3e81c50"
      },
      "execution_count": 36,
      "outputs": [
        {
          "output_type": "display_data",
          "data": {
            "text/plain": [
              "<Figure size 1200x1000 with 4 Axes>"
            ],
            "image/png": "[encoded data removed]"
          },
          "metadata": {}
        }
      ]
    },
    {
      "cell_type": "markdown",
      "source": [
        "## 9. Đánh giá mô hình"
      ],
      "metadata": {
        "id": "LczgqlEWSBBR"
      }
    },
    {
      "cell_type": "code",
      "source": [
        "val_set_acc = compute_accuracy(X_val, y_val, theta)\n",
        "test_set_acc = compute_accuracy(X_test, y_test, theta)\n",
        "print('Evaluation on validation and test set:')\n",
        "print(f'Accuracy: { val_set_acc }')\n",
        "print(f'Accuracy : { test_set_acc }')"
      ],
      "metadata": {
        "colab": {
          "base_uri": "https://localhost:8080/"
        },
        "id": "C01L8xXYR9Km",
        "outputId": "d781d3e3-ab68-4e04-aa25-6ece323a569a"
      },
      "execution_count": 37,
      "outputs": [
        {
          "output_type": "stream",
          "name": "stdout",
          "text": [
            "Evaluation on validation and test set:\n",
            "Accuracy: 0.821969696969697\n",
            "Accuracy : 0.8434343434343434\n"
          ]
        }
      ]
    }
  ]
}